{
 "cells": [
  {
   "cell_type": "markdown",
   "id": "56bab580",
   "metadata": {},
   "source": [
    "# Deep Learning Coursework\n",
    "\n",
    "### Group Members: Dean Yang, Alek Dimitrov, Mingyuan Xia"
   ]
  },
  {
   "cell_type": "markdown",
   "id": "12072d1a",
   "metadata": {},
   "source": [
    "# Imports"
   ]
  },
  {
   "cell_type": "code",
   "execution_count": 1,
   "id": "711e91e9",
   "metadata": {},
   "outputs": [],
   "source": [
    "# Pandas, numpy, and matplotlib\n",
    "import pandas as pd\n",
    "import numpy as np\n",
    "import matplotlib.pyplot as plt\n",
    "import seaborn as sns\n",
    "from scipy import stats\n",
    "\n",
    "# Pipeline, preprocessing, and train_test_split\n",
    "from sklearn.pipeline import Pipeline\n",
    "from sklearn.compose import ColumnTransformer\n",
    "from sklearn.preprocessing import StandardScaler, OneHotEncoder, PowerTransformer\n",
    "from sklearn.model_selection import train_test_split\n",
    "from sklearn.feature_selection import SelectFromModel\n",
    "from sklearn.impute import KNNImputer  # Fill in missing values\n",
    "from sklearn.decomposition import PCA\n",
    "from sklearn.metrics import classification_report, confusion_matrix, accuracy_score\n",
    "\n",
    "# Model and feature selection\n",
    "import xgboost as xgb\n",
    "from sklearn.ensemble import (\n",
    "    RandomForestClassifier, RandomForestRegressor, \n",
    ")\n",
    "\n",
    "from sklearn.linear_model import (\n",
    "    LogisticRegression\n",
    ")\n",
    "from sklearn.svm import SVC\n",
    "from sklearn.neighbors import KNeighborsClassifier\n",
    "\n",
    "import tensorflow as tf\n",
    "from tensorflow.keras.preprocessing.sequence import pad_sequences\n",
    "from tensorflow.keras.models import Sequential\n",
    "from tensorflow.keras.layers import Masking, Dense, LSTM, SimpleRNN, Bidirectional, Dropout\n",
    "\n",
    "from sklearn.naive_bayes import BernoulliNB, GaussianNB, MultinomialNB, ComplementNB,  CategoricalNB"
   ]
  },
  {
   "cell_type": "markdown",
   "id": "77cb2bd7",
   "metadata": {},
   "source": [
    "# Data Processing"
   ]
  },
  {
   "cell_type": "code",
   "execution_count": 2,
   "id": "c756476e",
   "metadata": {},
   "outputs": [],
   "source": [
    "# read the data\n",
    "data = pd.read_csv(\"Data_A.csv\", header=None)\n",
    "X_B = pd.read_csv(\"Data_B_nolabels.csv\", header=None)\n",
    "\n",
    "data.columns = [str(i) for i in range(len(data.columns))]\n",
    "rows, columns = data.shape"
   ]
  },
  {
   "cell_type": "code",
   "execution_count": 3,
   "id": "621ed462",
   "metadata": {},
   "outputs": [
    {
     "data": {
      "text/html": [
       "<div>\n",
       "<style scoped>\n",
       "    .dataframe tbody tr th:only-of-type {\n",
       "        vertical-align: middle;\n",
       "    }\n",
       "\n",
       "    .dataframe tbody tr th {\n",
       "        vertical-align: top;\n",
       "    }\n",
       "\n",
       "    .dataframe thead th {\n",
       "        text-align: right;\n",
       "    }\n",
       "</style>\n",
       "<table border=\"1\" class=\"dataframe\">\n",
       "  <thead>\n",
       "    <tr style=\"text-align: right;\">\n",
       "      <th></th>\n",
       "      <th>0</th>\n",
       "      <th>1</th>\n",
       "      <th>2</th>\n",
       "      <th>3</th>\n",
       "      <th>4</th>\n",
       "      <th>5</th>\n",
       "      <th>6</th>\n",
       "      <th>7</th>\n",
       "      <th>8</th>\n",
       "      <th>9</th>\n",
       "      <th>...</th>\n",
       "      <th>12</th>\n",
       "      <th>13</th>\n",
       "      <th>14</th>\n",
       "      <th>15</th>\n",
       "      <th>16</th>\n",
       "      <th>17</th>\n",
       "      <th>18</th>\n",
       "      <th>19</th>\n",
       "      <th>20</th>\n",
       "      <th>21</th>\n",
       "    </tr>\n",
       "  </thead>\n",
       "  <tbody>\n",
       "    <tr>\n",
       "      <th>0</th>\n",
       "      <td>1</td>\n",
       "      <td>693200.0</td>\n",
       "      <td>126</td>\n",
       "      <td>692800.0</td>\n",
       "      <td>110</td>\n",
       "      <td>693300.0</td>\n",
       "      <td>50</td>\n",
       "      <td>692700.0</td>\n",
       "      <td>165</td>\n",
       "      <td>693400.0</td>\n",
       "      <td>...</td>\n",
       "      <td>50</td>\n",
       "      <td>693500.0</td>\n",
       "      <td>50</td>\n",
       "      <td>692500.0</td>\n",
       "      <td>250</td>\n",
       "      <td>0</td>\n",
       "      <td>1</td>\n",
       "      <td>0</td>\n",
       "      <td>1</td>\n",
       "      <td>0</td>\n",
       "    </tr>\n",
       "    <tr>\n",
       "      <th>1</th>\n",
       "      <td>0</td>\n",
       "      <td>650400.0</td>\n",
       "      <td>501</td>\n",
       "      <td>650200.0</td>\n",
       "      <td>106</td>\n",
       "      <td>650500.0</td>\n",
       "      <td>245</td>\n",
       "      <td>650100.0</td>\n",
       "      <td>259</td>\n",
       "      <td>650600.0</td>\n",
       "      <td>...</td>\n",
       "      <td>328</td>\n",
       "      <td>650700.0</td>\n",
       "      <td>141</td>\n",
       "      <td>649900.0</td>\n",
       "      <td>277</td>\n",
       "      <td>0</td>\n",
       "      <td>0</td>\n",
       "      <td>1</td>\n",
       "      <td>1</td>\n",
       "      <td>1</td>\n",
       "    </tr>\n",
       "    <tr>\n",
       "      <th>2</th>\n",
       "      <td>1</td>\n",
       "      <td>636200.0</td>\n",
       "      <td>153</td>\n",
       "      <td>635800.0</td>\n",
       "      <td>150</td>\n",
       "      <td>636300.0</td>\n",
       "      <td>100</td>\n",
       "      <td>635700.0</td>\n",
       "      <td>15</td>\n",
       "      <td>636400.0</td>\n",
       "      <td>...</td>\n",
       "      <td>110</td>\n",
       "      <td>636500.0</td>\n",
       "      <td>105</td>\n",
       "      <td>635500.0</td>\n",
       "      <td>201</td>\n",
       "      <td>0</td>\n",
       "      <td>1</td>\n",
       "      <td>0</td>\n",
       "      <td>1</td>\n",
       "      <td>0</td>\n",
       "    </tr>\n",
       "    <tr>\n",
       "      <th>3</th>\n",
       "      <td>0</td>\n",
       "      <td>724800.0</td>\n",
       "      <td>4</td>\n",
       "      <td>724500.0</td>\n",
       "      <td>14</td>\n",
       "      <td>724900.0</td>\n",
       "      <td>50</td>\n",
       "      <td>724300.0</td>\n",
       "      <td>312</td>\n",
       "      <td>725100.0</td>\n",
       "      <td>...</td>\n",
       "      <td>100</td>\n",
       "      <td>725200.0</td>\n",
       "      <td>379</td>\n",
       "      <td>724100.0</td>\n",
       "      <td>56</td>\n",
       "      <td>1</td>\n",
       "      <td>0</td>\n",
       "      <td>0</td>\n",
       "      <td>1</td>\n",
       "      <td>1</td>\n",
       "    </tr>\n",
       "    <tr>\n",
       "      <th>4</th>\n",
       "      <td>0</td>\n",
       "      <td>622900.0</td>\n",
       "      <td>110</td>\n",
       "      <td>622700.0</td>\n",
       "      <td>100</td>\n",
       "      <td>623000.0</td>\n",
       "      <td>523</td>\n",
       "      <td>622600.0</td>\n",
       "      <td>300</td>\n",
       "      <td>623100.0</td>\n",
       "      <td>...</td>\n",
       "      <td>249</td>\n",
       "      <td>623200.0</td>\n",
       "      <td>605</td>\n",
       "      <td>622400.0</td>\n",
       "      <td>200</td>\n",
       "      <td>1</td>\n",
       "      <td>0</td>\n",
       "      <td>1</td>\n",
       "      <td>1</td>\n",
       "      <td>0</td>\n",
       "    </tr>\n",
       "  </tbody>\n",
       "</table>\n",
       "<p>5 rows × 22 columns</p>\n",
       "</div>"
      ],
      "text/plain": [
       "   0         1    2         3    4         5    6         7    8         9  \\\n",
       "0  1  693200.0  126  692800.0  110  693300.0   50  692700.0  165  693400.0   \n",
       "1  0  650400.0  501  650200.0  106  650500.0  245  650100.0  259  650600.0   \n",
       "2  1  636200.0  153  635800.0  150  636300.0  100  635700.0   15  636400.0   \n",
       "3  0  724800.0    4  724500.0   14  724900.0   50  724300.0  312  725100.0   \n",
       "4  0  622900.0  110  622700.0  100  623000.0  523  622600.0  300  623100.0   \n",
       "\n",
       "   ...   12        13   14        15   16  17  18  19  20  21  \n",
       "0  ...   50  693500.0   50  692500.0  250   0   1   0   1   0  \n",
       "1  ...  328  650700.0  141  649900.0  277   0   0   1   1   1  \n",
       "2  ...  110  636500.0  105  635500.0  201   0   1   0   1   0  \n",
       "3  ...  100  725200.0  379  724100.0   56   1   0   0   1   1  \n",
       "4  ...  249  623200.0  605  622400.0  200   1   0   1   1   0  \n",
       "\n",
       "[5 rows x 22 columns]"
      ]
     },
     "execution_count": 3,
     "metadata": {},
     "output_type": "execute_result"
    }
   ],
   "source": [
    "data.head()"
   ]
  },
  {
   "cell_type": "code",
   "execution_count": 4,
   "id": "67bc1342",
   "metadata": {},
   "outputs": [],
   "source": [
    "# split the dataset into dependent and independent variables\n",
    "X, Y = data.drop(columns=[\"0\"]), data[\"0\"]"
   ]
  },
  {
   "cell_type": "code",
   "execution_count": 5,
   "id": "c1d46587-ac94-4b91-87ee-2d9ec5958675",
   "metadata": {},
   "outputs": [],
   "source": [
    "X_B.columns = X.columns"
   ]
  },
  {
   "cell_type": "code",
   "execution_count": 6,
   "id": "518c5a02-9150-48ff-aebc-f8e4fb7d9924",
   "metadata": {},
   "outputs": [],
   "source": [
    "# X.drop(columns=[str(i) for i in [3, 5, 7, 9, 11, 13, 15]], inplace=True)  # lets drop highly correlated features"
   ]
  },
  {
   "cell_type": "code",
   "execution_count": 7,
   "id": "2cbab7d1",
   "metadata": {},
   "outputs": [],
   "source": [
    "# Standardize the data\n",
    "for i in range(len(X.columns)-5):\n",
    "    std = pd.concat([X.iloc[:,i], X_B.iloc[:,i]]).std()\n",
    "    mean = pd.concat([X.iloc[:,i], X_B.iloc[:,i]]).mean()\n",
    "    X.iloc[:,i] = (X.iloc[:,i] - mean) / std\n",
    "    X_B.iloc[:,i] = (X_B.iloc[:,i] - mean) / std"
   ]
  },
  {
   "cell_type": "code",
   "execution_count": 8,
   "id": "68f18ba7",
   "metadata": {},
   "outputs": [
    {
     "name": "stdout",
     "output_type": "stream",
     "text": [
      "Y has 100008 '1' labels\n",
      "Y has 99992 '0' labels\n"
     ]
    }
   ],
   "source": [
    "print(\"Y has {} '1' labels\".format(len(Y[Y == 1])))\n",
    "print(\"Y has {} '0' labels\".format(len(Y[Y == 0])))"
   ]
  },
  {
   "cell_type": "markdown",
   "id": "f61ad000",
   "metadata": {},
   "source": [
    "Note: Y has balanced labels '0' and '1'."
   ]
  },
  {
   "cell_type": "code",
   "execution_count": 9,
   "id": "93006883",
   "metadata": {},
   "outputs": [],
   "source": [
    "X_train_large, X_test, Y_train_large, Y_test = train_test_split(X, Y, test_size=0.2)\n",
    "\n",
    "X_train, X_val, Y_train, Y_val = train_test_split(X_train_large, Y_train_large, test_size=0.2)"
   ]
  },
  {
   "cell_type": "markdown",
   "id": "25e7881b",
   "metadata": {},
   "source": [
    "# Overview: \n",
    "\n",
    "The general approach of this coursework is to generate several input models first (including logistic regression, random forest, multilayer perceptron, inception models etc.), and then feed those continuous predictions from input models to a final one-layer neural network to make the final predictions. <br>\n",
    "\n",
    "We split dataset A into training set, validation set and test set, use the validation set to select hyperparameters for all models (including both input models and final mlp model), retrain the stacked model on both training set and validation set, and then test its performance on the test set and generate predictions on dataset B."
   ]
  },
  {
   "cell_type": "markdown",
   "id": "9dfbb2c0",
   "metadata": {},
   "source": [
    "# Input Models\n",
    "\n"
   ]
  },
  {
   "cell_type": "markdown",
   "id": "9f072f7e",
   "metadata": {},
   "source": [
    "### Input model 1: Logistic Regression"
   ]
  },
  {
   "cell_type": "code",
   "execution_count": 12,
   "id": "2c02c10d",
   "metadata": {},
   "outputs": [],
   "source": [
    "model_lr = Pipeline([\n",
    "    ('logistic', LogisticRegression())\n",
    "])"
   ]
  },
  {
   "cell_type": "code",
   "execution_count": 13,
   "id": "d082fabd",
   "metadata": {},
   "outputs": [
    {
     "name": "stdout",
     "output_type": "stream",
     "text": [
      "[[10786  5261]\n",
      " [ 5403 10550]]\n",
      "              precision    recall  f1-score   support\n",
      "\n",
      "           0       0.67      0.67      0.67     16047\n",
      "           1       0.67      0.66      0.66     15953\n",
      "\n",
      "    accuracy                           0.67     32000\n",
      "   macro avg       0.67      0.67      0.67     32000\n",
      "weighted avg       0.67      0.67      0.67     32000\n",
      "\n"
     ]
    }
   ],
   "source": [
    "# Train the model using the pipeline\n",
    "model_lr.fit(X_train, Y_train) \n",
    "\n",
    "# Make predictions\n",
    "predictions_lr = model_lr.predict(X_val)\n",
    "\n",
    "# Evaluate the model\n",
    "print(confusion_matrix(Y_val, predictions_lr))\n",
    "print(classification_report(Y_val, predictions_lr))"
   ]
  },
  {
   "cell_type": "code",
   "execution_count": 14,
   "id": "0c150715",
   "metadata": {},
   "outputs": [
    {
     "name": "stdout",
     "output_type": "stream",
     "text": [
      "Accuracy: 0.66675\n"
     ]
    }
   ],
   "source": [
    "# test its performance on train_val set (not used for training)\n",
    "accuracy = accuracy_score(Y_val, predictions_lr)\n",
    "print(\"Accuracy:\", accuracy)"
   ]
  },
  {
   "cell_type": "markdown",
   "id": "f8f6913b",
   "metadata": {},
   "source": [
    "### Input model 2: Random Forest"
   ]
  },
  {
   "cell_type": "markdown",
   "id": "37393313",
   "metadata": {},
   "source": [
    "Select the best hyper-parameters(number of trees and maximum depths of trees) for random forest."
   ]
  },
  {
   "cell_type": "code",
   "execution_count": 110,
   "id": "fe978111",
   "metadata": {},
   "outputs": [
    {
     "name": "stdout",
     "output_type": "stream",
     "text": [
      "Accuracy for 100 trees with max depth 15: 0.72853125\n",
      "Accuracy for 100 trees with max depth 20: 0.7254375\n",
      "Accuracy for 100 trees with max depth 30: 0.722875\n",
      "Accuracy for 250 trees with max depth 15: 0.72815625\n",
      "Accuracy for 250 trees with max depth 20: 0.7283125\n",
      "Accuracy for 250 trees with max depth 30: 0.7268125\n",
      "Accuracy for 500 trees with max depth 15: 0.7289375\n",
      "Accuracy for 500 trees with max depth 20: 0.72884375\n",
      "Accuracy for 500 trees with max depth 30: 0.72671875\n"
     ]
    }
   ],
   "source": [
    "# Performa a grid search to select the best hyper-parameters\n",
    "number_of_trees = [100, 250, 500]\n",
    "max_depths = [15, 20, 30]  \n",
    "accuracy_scores = np.zeros((len(number_of_trees), len(max_depths)))\n",
    "for i, n in enumerate(number_of_trees):\n",
    "    for j, depth in enumerate(max_depths):\n",
    "        model_rf = Pipeline([('logistic', RandomForestClassifier(n_estimators=n, max_depth = depth))])\n",
    "        model_rf.fit(X_train, Y_train)\n",
    "        predictions_rf = model_rf.predict(X_val)\n",
    "        accuracy_scores[i, j] = accuracy_score(Y_val, predictions_rf)\n",
    "        print(\"Accuracy for {} trees with max depth {}: {}\".format(n,depth, accuracy_score(Y_val, predictions_rf)))"
   ]
  },
  {
   "cell_type": "code",
   "execution_count": 111,
   "id": "2756f2e6",
   "metadata": {},
   "outputs": [
    {
     "name": "stdout",
     "output_type": "stream",
     "text": [
      "Best number of trees: 500\n",
      "Best max depth: 15\n"
     ]
    }
   ],
   "source": [
    "# find the best hyper-parameters with the highest accuracy on the sub_validation set\n",
    "max_index = np.unravel_index(np.argmax(accuracy_scores), accuracy_scores.shape)\n",
    "best_n = number_of_trees[max_index[0]]\n",
    "best_depth = max_depths[max_index[1]]\n",
    "\n",
    "#print\n",
    "print(\"Best number of trees: {}\".format(best_n))\n",
    "print(\"Best max depth: {}\".format(best_depth))"
   ]
  },
  {
   "cell_type": "code",
   "execution_count": 15,
   "id": "99dfafa4",
   "metadata": {},
   "outputs": [
    {
     "data": {
      "text/html": [
       "<style>#sk-container-id-1 {color: black;}#sk-container-id-1 pre{padding: 0;}#sk-container-id-1 div.sk-toggleable {background-color: white;}#sk-container-id-1 label.sk-toggleable__label {cursor: pointer;display: block;width: 100%;margin-bottom: 0;padding: 0.3em;box-sizing: border-box;text-align: center;}#sk-container-id-1 label.sk-toggleable__label-arrow:before {content: \"▸\";float: left;margin-right: 0.25em;color: #696969;}#sk-container-id-1 label.sk-toggleable__label-arrow:hover:before {color: black;}#sk-container-id-1 div.sk-estimator:hover label.sk-toggleable__label-arrow:before {color: black;}#sk-container-id-1 div.sk-toggleable__content {max-height: 0;max-width: 0;overflow: hidden;text-align: left;background-color: #f0f8ff;}#sk-container-id-1 div.sk-toggleable__content pre {margin: 0.2em;color: black;border-radius: 0.25em;background-color: #f0f8ff;}#sk-container-id-1 input.sk-toggleable__control:checked~div.sk-toggleable__content {max-height: 200px;max-width: 100%;overflow: auto;}#sk-container-id-1 input.sk-toggleable__control:checked~label.sk-toggleable__label-arrow:before {content: \"▾\";}#sk-container-id-1 div.sk-estimator input.sk-toggleable__control:checked~label.sk-toggleable__label {background-color: #d4ebff;}#sk-container-id-1 div.sk-label input.sk-toggleable__control:checked~label.sk-toggleable__label {background-color: #d4ebff;}#sk-container-id-1 input.sk-hidden--visually {border: 0;clip: rect(1px 1px 1px 1px);clip: rect(1px, 1px, 1px, 1px);height: 1px;margin: -1px;overflow: hidden;padding: 0;position: absolute;width: 1px;}#sk-container-id-1 div.sk-estimator {font-family: monospace;background-color: #f0f8ff;border: 1px dotted black;border-radius: 0.25em;box-sizing: border-box;margin-bottom: 0.5em;}#sk-container-id-1 div.sk-estimator:hover {background-color: #d4ebff;}#sk-container-id-1 div.sk-parallel-item::after {content: \"\";width: 100%;border-bottom: 1px solid gray;flex-grow: 1;}#sk-container-id-1 div.sk-label:hover label.sk-toggleable__label {background-color: #d4ebff;}#sk-container-id-1 div.sk-serial::before {content: \"\";position: absolute;border-left: 1px solid gray;box-sizing: border-box;top: 0;bottom: 0;left: 50%;z-index: 0;}#sk-container-id-1 div.sk-serial {display: flex;flex-direction: column;align-items: center;background-color: white;padding-right: 0.2em;padding-left: 0.2em;position: relative;}#sk-container-id-1 div.sk-item {position: relative;z-index: 1;}#sk-container-id-1 div.sk-parallel {display: flex;align-items: stretch;justify-content: center;background-color: white;position: relative;}#sk-container-id-1 div.sk-item::before, #sk-container-id-1 div.sk-parallel-item::before {content: \"\";position: absolute;border-left: 1px solid gray;box-sizing: border-box;top: 0;bottom: 0;left: 50%;z-index: -1;}#sk-container-id-1 div.sk-parallel-item {display: flex;flex-direction: column;z-index: 1;position: relative;background-color: white;}#sk-container-id-1 div.sk-parallel-item:first-child::after {align-self: flex-end;width: 50%;}#sk-container-id-1 div.sk-parallel-item:last-child::after {align-self: flex-start;width: 50%;}#sk-container-id-1 div.sk-parallel-item:only-child::after {width: 0;}#sk-container-id-1 div.sk-dashed-wrapped {border: 1px dashed gray;margin: 0 0.4em 0.5em 0.4em;box-sizing: border-box;padding-bottom: 0.4em;background-color: white;}#sk-container-id-1 div.sk-label label {font-family: monospace;font-weight: bold;display: inline-block;line-height: 1.2em;}#sk-container-id-1 div.sk-label-container {text-align: center;}#sk-container-id-1 div.sk-container {/* jupyter's `normalize.less` sets `[hidden] { display: none; }` but bootstrap.min.css set `[hidden] { display: none !important; }` so we also need the `!important` here to be able to override the default hidden behavior on the sphinx rendered scikit-learn.org. See: https://github.com/scikit-learn/scikit-learn/issues/21755 */display: inline-block !important;position: relative;}#sk-container-id-1 div.sk-text-repr-fallback {display: none;}</style><div id=\"sk-container-id-1\" class=\"sk-top-container\"><div class=\"sk-text-repr-fallback\"><pre>Pipeline(steps=[(&#x27;rf&#x27;, RandomForestClassifier(max_depth=15, n_estimators=500))])</pre><b>In a Jupyter environment, please rerun this cell to show the HTML representation or trust the notebook. <br />On GitHub, the HTML representation is unable to render, please try loading this page with nbviewer.org.</b></div><div class=\"sk-container\" hidden><div class=\"sk-item sk-dashed-wrapped\"><div class=\"sk-label-container\"><div class=\"sk-label sk-toggleable\"><input class=\"sk-toggleable__control sk-hidden--visually\" id=\"sk-estimator-id-1\" type=\"checkbox\" ><label for=\"sk-estimator-id-1\" class=\"sk-toggleable__label sk-toggleable__label-arrow\">Pipeline</label><div class=\"sk-toggleable__content\"><pre>Pipeline(steps=[(&#x27;rf&#x27;, RandomForestClassifier(max_depth=15, n_estimators=500))])</pre></div></div></div><div class=\"sk-serial\"><div class=\"sk-item\"><div class=\"sk-estimator sk-toggleable\"><input class=\"sk-toggleable__control sk-hidden--visually\" id=\"sk-estimator-id-2\" type=\"checkbox\" ><label for=\"sk-estimator-id-2\" class=\"sk-toggleable__label sk-toggleable__label-arrow\">RandomForestClassifier</label><div class=\"sk-toggleable__content\"><pre>RandomForestClassifier(max_depth=15, n_estimators=500)</pre></div></div></div></div></div></div></div>"
      ],
      "text/plain": [
       "Pipeline(steps=[('rf', RandomForestClassifier(max_depth=15, n_estimators=500))])"
      ]
     },
     "execution_count": 15,
     "metadata": {},
     "output_type": "execute_result"
    }
   ],
   "source": [
    "best_n = 500\n",
    "best_depth = 15\n",
    "\n",
    "# Retrain the model on the entire training set with the best hyperparameters\n",
    "model_rf = Pipeline([('rf', RandomForestClassifier(n_estimators=best_n, max_depth = best_depth))])\n",
    "model_rf.fit(X_train, Y_train)"
   ]
  },
  {
   "cell_type": "markdown",
   "id": "fa71faee",
   "metadata": {},
   "source": [
    "### Input Model 3: KNN"
   ]
  },
  {
   "cell_type": "code",
   "execution_count": 113,
   "id": "2b401758",
   "metadata": {},
   "outputs": [
    {
     "name": "stdout",
     "output_type": "stream",
     "text": [
      "Accuracy for 5 neighbors: 0.64428125\n",
      "Accuracy for 10 neighbors: 0.6554375\n",
      "Accuracy for 15 neighbors: 0.6633125\n",
      "Accuracy for 20 neighbors: 0.66528125\n",
      "Accuracy for 25 neighbors: 0.66775\n",
      "Accuracy for 30 neighbors: 0.66790625\n",
      "Accuracy for 35 neighbors: 0.6693125\n",
      "Accuracy for 40 neighbors: 0.6693125\n"
     ]
    }
   ],
   "source": [
    "# Select the best hyper-parameters n\n",
    "n_neighbors = [5, 10, 15, 20, 25, 30, 35, 40]\n",
    "accuracy_scores = np.zeros(len(n_neighbors))\n",
    "for n in n_neighbors:\n",
    "    model_knn = Pipeline([\n",
    "        ('scaler', StandardScaler()), \n",
    "        ('knn', KNeighborsClassifier(n_neighbors=n))\n",
    "    ])\n",
    "    model_knn.fit(X_train, Y_train)\n",
    "    predictions_knn = model_knn.predict(X_val)\n",
    "    accuracy_scores[n_neighbors.index(n)] = accuracy_score(Y_val, predictions_knn)\n",
    "    print(\"Accuracy for {} neighbors: {}\".format(n, accuracy_scores[n_neighbors.index(n)]))"
   ]
  },
  {
   "cell_type": "code",
   "execution_count": 114,
   "id": "8e84bfd5",
   "metadata": {},
   "outputs": [
    {
     "name": "stdout",
     "output_type": "stream",
     "text": [
      "Best number of neighbors: 35\n"
     ]
    }
   ],
   "source": [
    "# find the best hyper-parameters with the highest accuracy on the sub_validation set\n",
    "index = np.argmax(accuracy_scores)\n",
    "best_n = n_neighbors[index]\n",
    "\n",
    "print(\"Best number of neighbors: {}\".format(best_n))"
   ]
  },
  {
   "cell_type": "code",
   "execution_count": 16,
   "id": "8fef0688",
   "metadata": {},
   "outputs": [
    {
     "data": {
      "text/html": [
       "<style>#sk-container-id-2 {color: black;}#sk-container-id-2 pre{padding: 0;}#sk-container-id-2 div.sk-toggleable {background-color: white;}#sk-container-id-2 label.sk-toggleable__label {cursor: pointer;display: block;width: 100%;margin-bottom: 0;padding: 0.3em;box-sizing: border-box;text-align: center;}#sk-container-id-2 label.sk-toggleable__label-arrow:before {content: \"▸\";float: left;margin-right: 0.25em;color: #696969;}#sk-container-id-2 label.sk-toggleable__label-arrow:hover:before {color: black;}#sk-container-id-2 div.sk-estimator:hover label.sk-toggleable__label-arrow:before {color: black;}#sk-container-id-2 div.sk-toggleable__content {max-height: 0;max-width: 0;overflow: hidden;text-align: left;background-color: #f0f8ff;}#sk-container-id-2 div.sk-toggleable__content pre {margin: 0.2em;color: black;border-radius: 0.25em;background-color: #f0f8ff;}#sk-container-id-2 input.sk-toggleable__control:checked~div.sk-toggleable__content {max-height: 200px;max-width: 100%;overflow: auto;}#sk-container-id-2 input.sk-toggleable__control:checked~label.sk-toggleable__label-arrow:before {content: \"▾\";}#sk-container-id-2 div.sk-estimator input.sk-toggleable__control:checked~label.sk-toggleable__label {background-color: #d4ebff;}#sk-container-id-2 div.sk-label input.sk-toggleable__control:checked~label.sk-toggleable__label {background-color: #d4ebff;}#sk-container-id-2 input.sk-hidden--visually {border: 0;clip: rect(1px 1px 1px 1px);clip: rect(1px, 1px, 1px, 1px);height: 1px;margin: -1px;overflow: hidden;padding: 0;position: absolute;width: 1px;}#sk-container-id-2 div.sk-estimator {font-family: monospace;background-color: #f0f8ff;border: 1px dotted black;border-radius: 0.25em;box-sizing: border-box;margin-bottom: 0.5em;}#sk-container-id-2 div.sk-estimator:hover {background-color: #d4ebff;}#sk-container-id-2 div.sk-parallel-item::after {content: \"\";width: 100%;border-bottom: 1px solid gray;flex-grow: 1;}#sk-container-id-2 div.sk-label:hover label.sk-toggleable__label {background-color: #d4ebff;}#sk-container-id-2 div.sk-serial::before {content: \"\";position: absolute;border-left: 1px solid gray;box-sizing: border-box;top: 0;bottom: 0;left: 50%;z-index: 0;}#sk-container-id-2 div.sk-serial {display: flex;flex-direction: column;align-items: center;background-color: white;padding-right: 0.2em;padding-left: 0.2em;position: relative;}#sk-container-id-2 div.sk-item {position: relative;z-index: 1;}#sk-container-id-2 div.sk-parallel {display: flex;align-items: stretch;justify-content: center;background-color: white;position: relative;}#sk-container-id-2 div.sk-item::before, #sk-container-id-2 div.sk-parallel-item::before {content: \"\";position: absolute;border-left: 1px solid gray;box-sizing: border-box;top: 0;bottom: 0;left: 50%;z-index: -1;}#sk-container-id-2 div.sk-parallel-item {display: flex;flex-direction: column;z-index: 1;position: relative;background-color: white;}#sk-container-id-2 div.sk-parallel-item:first-child::after {align-self: flex-end;width: 50%;}#sk-container-id-2 div.sk-parallel-item:last-child::after {align-self: flex-start;width: 50%;}#sk-container-id-2 div.sk-parallel-item:only-child::after {width: 0;}#sk-container-id-2 div.sk-dashed-wrapped {border: 1px dashed gray;margin: 0 0.4em 0.5em 0.4em;box-sizing: border-box;padding-bottom: 0.4em;background-color: white;}#sk-container-id-2 div.sk-label label {font-family: monospace;font-weight: bold;display: inline-block;line-height: 1.2em;}#sk-container-id-2 div.sk-label-container {text-align: center;}#sk-container-id-2 div.sk-container {/* jupyter's `normalize.less` sets `[hidden] { display: none; }` but bootstrap.min.css set `[hidden] { display: none !important; }` so we also need the `!important` here to be able to override the default hidden behavior on the sphinx rendered scikit-learn.org. See: https://github.com/scikit-learn/scikit-learn/issues/21755 */display: inline-block !important;position: relative;}#sk-container-id-2 div.sk-text-repr-fallback {display: none;}</style><div id=\"sk-container-id-2\" class=\"sk-top-container\"><div class=\"sk-text-repr-fallback\"><pre>Pipeline(steps=[(&#x27;scaler&#x27;, StandardScaler()),\n",
       "                (&#x27;knn&#x27;, KNeighborsClassifier(n_neighbors=30))])</pre><b>In a Jupyter environment, please rerun this cell to show the HTML representation or trust the notebook. <br />On GitHub, the HTML representation is unable to render, please try loading this page with nbviewer.org.</b></div><div class=\"sk-container\" hidden><div class=\"sk-item sk-dashed-wrapped\"><div class=\"sk-label-container\"><div class=\"sk-label sk-toggleable\"><input class=\"sk-toggleable__control sk-hidden--visually\" id=\"sk-estimator-id-3\" type=\"checkbox\" ><label for=\"sk-estimator-id-3\" class=\"sk-toggleable__label sk-toggleable__label-arrow\">Pipeline</label><div class=\"sk-toggleable__content\"><pre>Pipeline(steps=[(&#x27;scaler&#x27;, StandardScaler()),\n",
       "                (&#x27;knn&#x27;, KNeighborsClassifier(n_neighbors=30))])</pre></div></div></div><div class=\"sk-serial\"><div class=\"sk-item\"><div class=\"sk-estimator sk-toggleable\"><input class=\"sk-toggleable__control sk-hidden--visually\" id=\"sk-estimator-id-4\" type=\"checkbox\" ><label for=\"sk-estimator-id-4\" class=\"sk-toggleable__label sk-toggleable__label-arrow\">StandardScaler</label><div class=\"sk-toggleable__content\"><pre>StandardScaler()</pre></div></div></div><div class=\"sk-item\"><div class=\"sk-estimator sk-toggleable\"><input class=\"sk-toggleable__control sk-hidden--visually\" id=\"sk-estimator-id-5\" type=\"checkbox\" ><label for=\"sk-estimator-id-5\" class=\"sk-toggleable__label sk-toggleable__label-arrow\">KNeighborsClassifier</label><div class=\"sk-toggleable__content\"><pre>KNeighborsClassifier(n_neighbors=30)</pre></div></div></div></div></div></div></div>"
      ],
      "text/plain": [
       "Pipeline(steps=[('scaler', StandardScaler()),\n",
       "                ('knn', KNeighborsClassifier(n_neighbors=30))])"
      ]
     },
     "execution_count": 16,
     "metadata": {},
     "output_type": "execute_result"
    }
   ],
   "source": [
    "best_n = 35\n",
    "\n",
    "# Retrain the model on the entire training set with the best hyperparameters\n",
    "model_knn = Pipeline([\n",
    "    ('scaler', StandardScaler()), \n",
    "    ('knn', KNeighborsClassifier(n_neighbors=best_n))\n",
    "])\n",
    "model_knn.fit(X_train, Y_train)"
   ]
  },
  {
   "cell_type": "markdown",
   "id": "2603fcd5",
   "metadata": {},
   "source": [
    "### Input model 4: Naive-Bayesian "
   ]
  },
  {
   "cell_type": "code",
   "execution_count": 116,
   "id": "ccc1aeb6",
   "metadata": {},
   "outputs": [
    {
     "name": "stdout",
     "output_type": "stream",
     "text": [
      "Accuracy for <class 'sklearn.naive_bayes.BernoulliNB'>: 0.63878125\n",
      "Accuracy for <class 'sklearn.naive_bayes.GaussianNB'>: 0.5739375\n"
     ]
    }
   ],
   "source": [
    "# Try two different types of Naive Bayes\n",
    "type_NB = [BernoulliNB, GaussianNB]\n",
    "accuracy_scores = np.zeros(len(type_NB))\n",
    "for i, t in enumerate(type_NB):\n",
    "    model_nb = t()\n",
    "    model_nb.fit(X_train, Y_train)\n",
    "    predictions_nb = model_nb.predict(X_val)\n",
    "    accuracy_scores[i] = accuracy_score(Y_val, predictions_nb)\n",
    "    print(\"Accuracy for {}: {}\".format(t, accuracy_scores[i]))\n"
   ]
  },
  {
   "cell_type": "code",
   "execution_count": 117,
   "id": "39d834e1",
   "metadata": {},
   "outputs": [
    {
     "data": {
      "text/html": [
       "<style>#sk-container-id-9 {color: black;background-color: white;}#sk-container-id-9 pre{padding: 0;}#sk-container-id-9 div.sk-toggleable {background-color: white;}#sk-container-id-9 label.sk-toggleable__label {cursor: pointer;display: block;width: 100%;margin-bottom: 0;padding: 0.3em;box-sizing: border-box;text-align: center;}#sk-container-id-9 label.sk-toggleable__label-arrow:before {content: \"▸\";float: left;margin-right: 0.25em;color: #696969;}#sk-container-id-9 label.sk-toggleable__label-arrow:hover:before {color: black;}#sk-container-id-9 div.sk-estimator:hover label.sk-toggleable__label-arrow:before {color: black;}#sk-container-id-9 div.sk-toggleable__content {max-height: 0;max-width: 0;overflow: hidden;text-align: left;background-color: #f0f8ff;}#sk-container-id-9 div.sk-toggleable__content pre {margin: 0.2em;color: black;border-radius: 0.25em;background-color: #f0f8ff;}#sk-container-id-9 input.sk-toggleable__control:checked~div.sk-toggleable__content {max-height: 200px;max-width: 100%;overflow: auto;}#sk-container-id-9 input.sk-toggleable__control:checked~label.sk-toggleable__label-arrow:before {content: \"▾\";}#sk-container-id-9 div.sk-estimator input.sk-toggleable__control:checked~label.sk-toggleable__label {background-color: #d4ebff;}#sk-container-id-9 div.sk-label input.sk-toggleable__control:checked~label.sk-toggleable__label {background-color: #d4ebff;}#sk-container-id-9 input.sk-hidden--visually {border: 0;clip: rect(1px 1px 1px 1px);clip: rect(1px, 1px, 1px, 1px);height: 1px;margin: -1px;overflow: hidden;padding: 0;position: absolute;width: 1px;}#sk-container-id-9 div.sk-estimator {font-family: monospace;background-color: #f0f8ff;border: 1px dotted black;border-radius: 0.25em;box-sizing: border-box;margin-bottom: 0.5em;}#sk-container-id-9 div.sk-estimator:hover {background-color: #d4ebff;}#sk-container-id-9 div.sk-parallel-item::after {content: \"\";width: 100%;border-bottom: 1px solid gray;flex-grow: 1;}#sk-container-id-9 div.sk-label:hover label.sk-toggleable__label {background-color: #d4ebff;}#sk-container-id-9 div.sk-serial::before {content: \"\";position: absolute;border-left: 1px solid gray;box-sizing: border-box;top: 0;bottom: 0;left: 50%;z-index: 0;}#sk-container-id-9 div.sk-serial {display: flex;flex-direction: column;align-items: center;background-color: white;padding-right: 0.2em;padding-left: 0.2em;position: relative;}#sk-container-id-9 div.sk-item {position: relative;z-index: 1;}#sk-container-id-9 div.sk-parallel {display: flex;align-items: stretch;justify-content: center;background-color: white;position: relative;}#sk-container-id-9 div.sk-item::before, #sk-container-id-9 div.sk-parallel-item::before {content: \"\";position: absolute;border-left: 1px solid gray;box-sizing: border-box;top: 0;bottom: 0;left: 50%;z-index: -1;}#sk-container-id-9 div.sk-parallel-item {display: flex;flex-direction: column;z-index: 1;position: relative;background-color: white;}#sk-container-id-9 div.sk-parallel-item:first-child::after {align-self: flex-end;width: 50%;}#sk-container-id-9 div.sk-parallel-item:last-child::after {align-self: flex-start;width: 50%;}#sk-container-id-9 div.sk-parallel-item:only-child::after {width: 0;}#sk-container-id-9 div.sk-dashed-wrapped {border: 1px dashed gray;margin: 0 0.4em 0.5em 0.4em;box-sizing: border-box;padding-bottom: 0.4em;background-color: white;}#sk-container-id-9 div.sk-label label {font-family: monospace;font-weight: bold;display: inline-block;line-height: 1.2em;}#sk-container-id-9 div.sk-label-container {text-align: center;}#sk-container-id-9 div.sk-container {/* jupyter's `normalize.less` sets `[hidden] { display: none; }` but bootstrap.min.css set `[hidden] { display: none !important; }` so we also need the `!important` here to be able to override the default hidden behavior on the sphinx rendered scikit-learn.org. See: https://github.com/scikit-learn/scikit-learn/issues/21755 */display: inline-block !important;position: relative;}#sk-container-id-9 div.sk-text-repr-fallback {display: none;}</style><div id=\"sk-container-id-9\" class=\"sk-top-container\"><div class=\"sk-text-repr-fallback\"><pre>BernoulliNB()</pre><b>In a Jupyter environment, please rerun this cell to show the HTML representation or trust the notebook. <br />On GitHub, the HTML representation is unable to render, please try loading this page with nbviewer.org.</b></div><div class=\"sk-container\" hidden><div class=\"sk-item\"><div class=\"sk-estimator sk-toggleable\"><input class=\"sk-toggleable__control sk-hidden--visually\" id=\"sk-estimator-id-19\" type=\"checkbox\" checked><label for=\"sk-estimator-id-19\" class=\"sk-toggleable__label sk-toggleable__label-arrow\">BernoulliNB</label><div class=\"sk-toggleable__content\"><pre>BernoulliNB()</pre></div></div></div></div></div>"
      ],
      "text/plain": [
       "BernoulliNB()"
      ]
     },
     "execution_count": 117,
     "metadata": {},
     "output_type": "execute_result"
    }
   ],
   "source": [
    "#retrain the model on the entire training set\n",
    "model_nb = BernoulliNB()\n",
    "model_nb.fit(X_train, Y_train)\n"
   ]
  },
  {
   "cell_type": "markdown",
   "id": "a3db43a2",
   "metadata": {},
   "source": [
    "### Input model 5: XGBoost Model"
   ]
  },
  {
   "cell_type": "code",
   "execution_count": 165,
   "id": "50977c40",
   "metadata": {},
   "outputs": [],
   "source": [
    "def grid_search(x, y, x_valid, y_valid, learning_rate_list = np.logspace(-5, 0, 5), \n",
    "                    n_list = [50, 100, 250, 500], \n",
    "                    subsample_list = [0.5, 0.65,  0.8,  1]):\n",
    "    \n",
    "    \"\"\"\n",
    "    param x: the training set descriptors, dataframe or numpy array\n",
    "    param y: the training set target values, dataframe or numpy array\n",
    "    param x_valid: the validation set descriptors, dataframe or numpy array\n",
    "    param y_valid: the validation set target values, dataframe or numpy array\n",
    "    param learning_rate_list: the list of learning rate to be searched, list\n",
    "    param n_list: the list of number of trees to be searched, list\n",
    "    param subsample_list: the list of subsample rate to be searched, list\n",
    "    param return_mse: whether to return the MSE list, boolean\n",
    "    \n",
    "    return opti_lr: the optimal learning rate, float\n",
    "    return opti_n: the optimal number of trees, int\n",
    "    return opti_subsample: the optimal subsample rate, float\n",
    "    return MSE_list: the MSE list(training set) for all combinations of hyper-parameters, numpy array,\n",
    "                        only returned when return_mse = True\n",
    "    return MSE_validation_list: the MSE list(validation set) for all combinations of hyper-parameters,\n",
    "                        umpy array, only returned when return_mse = True\n",
    "    \"\"\"\n",
    "    \n",
    "    # initialize the MSE list\n",
    "    accuracy_validation_list =  np.zeros((len(learning_rate_list),len(n_list),len(subsample_list)))\n",
    "\n",
    "    for i in range(len(learning_rate_list)):\n",
    "        lr = learning_rate_list[i]\n",
    "        for j in range(len(n_list)):\n",
    "            n = n_list[j]\n",
    "            for k in range(len(subsample_list)):\n",
    "                \n",
    "                subsample_rate = subsample_list[k]\n",
    "                # train the xgb model with x and y \n",
    "                xgb_model = xgb.XGBRegressor(learning_rate = lr, n_estimators = n, \n",
    "                                        subsample = subsample_rate, random_state = 1).fit(x,y)\n",
    "                # predict the y value for validation set\n",
    "                y_pred_valid = xgb_model.predict(x_valid)\n",
    "                # calculate the MSE for validation set\n",
    "                y_pred_valid[y_pred_valid > 0.5 ] = int(1)\n",
    "                y_pred_valid[y_pred_valid <= 0.5 ] = int(0)     \n",
    "                accuracy_validation_list[i,j,k] = accuracy_score(y_valid, y_pred_valid)\n",
    "\n",
    "    # find the optimal learning rate, number of trees and subsample rate\n",
    "    index = np.argwhere(accuracy_validation_list == np.max(accuracy_validation_list)).reshape(3)\n",
    "    opti_lr = learning_rate_list[index[0]]\n",
    "    opti_n = n_list[index[1]]\n",
    "    opti_subsample = subsample_list[index[2]]\n",
    "\n",
    "    return opti_lr, opti_n, opti_subsample, accuracy_validation_list\n"
   ]
  },
  {
   "cell_type": "code",
   "execution_count": 166,
   "id": "569f38fb",
   "metadata": {},
   "outputs": [
    {
     "name": "stdout",
     "output_type": "stream",
     "text": [
      "The optimal learning rate is: 0.05623413251903491\n",
      "The optimal number of trees is: 500\n",
      "The optimal subsample rate is: 1\n"
     ]
    }
   ],
   "source": [
    "opti_lr, opti_n, opti_subsample, accuracy_validation_list = grid_search(X_train, Y_train, X_val, Y_val)\n",
    "\n",
    "print(\"The optimal learning rate is: {}\".format(opti_lr))\n",
    "print(\"The optimal number of trees is: {}\".format(opti_n))\n",
    "print(\"The optimal subsample rate is: {}\".format(opti_subsample))"
   ]
  },
  {
   "cell_type": "code",
   "execution_count": 17,
   "id": "ac742133",
   "metadata": {},
   "outputs": [
    {
     "name": "stdout",
     "output_type": "stream",
     "text": [
      "Accuracy: 0.727875\n",
      "              precision    recall  f1-score   support\n",
      "\n",
      "           0       0.73      0.73      0.73     16047\n",
      "           1       0.73      0.73      0.73     15953\n",
      "\n",
      "    accuracy                           0.73     32000\n",
      "   macro avg       0.73      0.73      0.73     32000\n",
      "weighted avg       0.73      0.73      0.73     32000\n",
      "\n"
     ]
    }
   ],
   "source": [
    "opti_lr = 0.05623413251903491\n",
    "opti_n = 500\n",
    "opti_subsample = 1\n",
    "\n",
    "model_xgb = xgb.XGBRegressor(learning_rate = opti_lr, n_estimators = opti_n, subsample = opti_subsample, random_state = 1).fit(X_train, Y_train)\n",
    "\n",
    "# Make predictions\n",
    "predictions_xgb = model_xgb.predict(X_val)\n",
    "predictions_xgb[predictions_xgb > 0.5 ] = int(1)\n",
    "predictions_xgb[predictions_xgb <= 0.5 ] = int(0)  \n",
    "\n",
    "\n",
    "# Evaluate the model\n",
    "print(\"Accuracy:\", accuracy_score(Y_val, predictions_xgb))\n",
    "print(classification_report(Y_val, predictions_xgb))"
   ]
  },
  {
   "cell_type": "markdown",
   "id": "6f40ef1c",
   "metadata": {},
   "source": [
    "### Input model 6: Neural Networks"
   ]
  },
  {
   "cell_type": "markdown",
   "id": "7a423ad7",
   "metadata": {},
   "source": [
    "We aim to find the best 3-layer perceptrons with 128 neurons in each hidden layer that gives the highest accuracy on the validation set. We utilize the greedy algorithm: we first fix the drop-out rate as 0.5, and choose the best sequence of activation functions that gives the highest accuracy in first 300 epochs; then, we select the best drop-out rate from list [0,0.2,0.5,0.7,0.9]; finally, we select the optimal epoch given previously selected optimal activation functions and drop-out rate."
   ]
  },
  {
   "cell_type": "markdown",
   "id": "58494d56",
   "metadata": {},
   "source": [
    "We will use Sigmoid as the activation function of the output layer as the true label are '0' and '1' and the prediction should be in the range $(0,1)$.  <br>\n",
    "For the activations function of two hidden layers, we select it from tanh, ReLU, ELU, Softplus, and sigmoid."
   ]
  },
  {
   "cell_type": "code",
   "execution_count": null,
   "id": "ec90d49d",
   "metadata": {
    "scrolled": true
   },
   "outputs": [],
   "source": [
    "activation_function = ['relu', 'tanh', 'sigmoid', 'elu', 'softplus']\n",
    "accuracy_scores = np.zeros((len(activation_function), len(activation_function)))\n",
    "for i, acti1 in enumerate(activation_function):\n",
    "    for j, acti2 in enumerate(activation_function):\n",
    "        model_nn_input = Sequential([\n",
    "            Dense(128, activation= acti1, input_shape=(X_train.shape[1],)),\n",
    "            Dropout(0.5),\n",
    "            Dense(128, activation= acti2),\n",
    "            Dropout(0.5),\n",
    "            Dense(1, activation='sigmoid')\n",
    "        ])\n",
    "        model_nn_input.compile(optimizer='adam', loss='binary_crossentropy', metrics=['accuracy'])\n",
    "        # Train the neural network\n",
    "        history = model_nn_input.fit(X_train, Y_train, validation_data=(X_val,Y_val), epochs=300, batch_size=256, verbose=True)\n",
    "        accuracy_scores[i,j] = max(history.history['val_accuracy'])"
   ]
  },
  {
   "cell_type": "code",
   "execution_count": 147,
   "id": "4741d88a",
   "metadata": {},
   "outputs": [
    {
     "name": "stdout",
     "output_type": "stream",
     "text": [
      "The optimal activation function for the first layer is: relu\n",
      "The optimal activation function for the second layer is: sigmoid\n"
     ]
    }
   ],
   "source": [
    "opti_acti = [activation_function[i] for i in np.unravel_index(np.argmax(accuracy_scores), accuracy_scores.shape)]\n",
    "print(\"The optimal activation function for the first layer is: {}\".format(opti_acti[0]))\n",
    "print(\"The optimal activation function for the second layer is: {}\".format(opti_acti[1]))"
   ]
  },
  {
   "cell_type": "code",
   "execution_count": null,
   "id": "826a5fa8",
   "metadata": {
    "scrolled": true
   },
   "outputs": [],
   "source": [
    "opti_acti = ['relu', 'sigmoid']\n",
    "\n",
    "#select the optimal dropout rate\n",
    "dropout_rate = [0,0.2,0.5,0.7,0.9]\n",
    "accuracy_scores = np.zeros(len(dropout_rate))\n",
    "for i, rate in enumerate(dropout_rate):\n",
    "    model_nn_input = Sequential([\n",
    "        Dense(128, activation= opti_acti[0], input_shape=(X_train.shape[1],)),\n",
    "        Dropout(rate),\n",
    "        Dense(128, activation= opti_acti[1]),\n",
    "        Dropout(rate),\n",
    "        Dense(1, activation='sigmoid')\n",
    "    ])\n",
    "    model_nn_input.compile(optimizer='adam', loss='binary_crossentropy', metrics=['accuracy'])\n",
    "    # Train the neural network\n",
    "    history = model_nn_input.fit(X_train, Y_train, validation_data=(X_val,Y_val), epochs=300, batch_size=256, verbose=True)\n",
    "    accuracy_scores[i] = max(history.history['val_accuracy'])"
   ]
  },
  {
   "cell_type": "code",
   "execution_count": 151,
   "id": "34f0a7c7",
   "metadata": {},
   "outputs": [
    {
     "name": "stdout",
     "output_type": "stream",
     "text": [
      "The optimal dropout rate is: 0.2\n"
     ]
    }
   ],
   "source": [
    "opti_dropout = dropout_rate[np.argmax(accuracy_scores)]\n",
    "print(\"The optimal dropout rate is: {}\".format(opti_dropout))"
   ]
  },
  {
   "cell_type": "code",
   "execution_count": null,
   "id": "678e4d9e",
   "metadata": {
    "scrolled": true
   },
   "outputs": [],
   "source": [
    "opti_acti = ['relu', 'sigmoid']\n",
    "opti_dropout = 0.2\n",
    "\n",
    "# Select the optimal epoch\n",
    "model_nn_input = Sequential([\n",
    "        Dense(128, activation= opti_acti[0], input_shape=(X_train.shape[1],)),\n",
    "        Dropout(opti_dropout),\n",
    "        Dense(128, activation= opti_acti[1]),\n",
    "        Dropout(opti_dropout),\n",
    "        Dense(1, activation='sigmoid')\n",
    "    ])\n",
    "\n",
    "model_nn_input.compile(optimizer='adam', loss='binary_crossentropy', metrics=['accuracy'])\n",
    "# Train the neural network\n",
    "history = model_nn_input.fit(X_train, Y_train, validation_data=(X_val,Y_val), epochs= 300, batch_size=256, verbose=True)"
   ]
  },
  {
   "cell_type": "code",
   "execution_count": 168,
   "id": "fd80312f",
   "metadata": {},
   "outputs": [
    {
     "data": {
      "image/png": "[encoded data removed]",
      "text/plain": [
       "<Figure size 432x288 with 1 Axes>"
      ]
     },
     "metadata": {
      "needs_background": "light"
     },
     "output_type": "display_data"
    },
    {
     "name": "stdout",
     "output_type": "stream",
     "text": [
      "Epoch with highest validation accuracy: 178\n"
     ]
    }
   ],
   "source": [
    "accuracy = history.history['accuracy']\n",
    "val_accuracy = history.history['val_accuracy']\n",
    "max_point = np.argmax(val_accuracy)\n",
    "\n",
    "plt.plot(range(len(accuracy)), accuracy, label='Training')\n",
    "plt.plot(range(len(val_accuracy)), val_accuracy, label='Validation')\n",
    "plt.scatter(max_point, val_accuracy[max_point], color='red', label=f'Highest Validation Accuracy ({max_point + 1}, {round(val_accuracy[max_point], 3)}')\n",
    "plt.legend()\n",
    "plt.title('Figure 1: Training Accuracy and Validation Accuracy vs Epochs')\n",
    "plt.show()\n",
    "print('Epoch with highest validation accuracy:', max_point + 1)\n"
   ]
  },
  {
   "cell_type": "code",
   "execution_count": null,
   "id": "8a1d67aa",
   "metadata": {
    "scrolled": true
   },
   "outputs": [],
   "source": [
    "#retrain the model\n",
    "opti_epoch = 178\n",
    "opti_acti = ['relu', 'sigmoid']\n",
    "opti_dropout = 0.2\n",
    "\n",
    "# Select the optimal epoch\n",
    "model_nn_input = Sequential([\n",
    "        Dense(128, activation= opti_acti[0], input_shape=(X_train.shape[1],)),\n",
    "        Dropout(opti_dropout),\n",
    "        Dense(128, activation= opti_acti[1]),\n",
    "        Dropout(opti_dropout),\n",
    "        Dense(1, activation='sigmoid')\n",
    "    ])\n",
    "\n",
    "model_nn_input.compile(optimizer='adam', loss='binary_crossentropy', metrics=['accuracy'])\n",
    "# Train the neural network\n",
    "history = model_nn_input.fit(X_train, Y_train, validation_data=(X_val,Y_val), epochs= opti_epoch, batch_size=256, verbose=True)"
   ]
  },
  {
   "cell_type": "markdown",
   "id": "8ac629fe-c2a6-4384-a791-2012c021fb2a",
   "metadata": {},
   "source": [
    "### Input model 7: LSTM"
   ]
  },
  {
   "cell_type": "markdown",
   "id": "736287b4-970c-4b8e-8954-060dccb03075",
   "metadata": {},
   "source": [
    "We can construct sequential data from the columns. From the columns we can construct 5 different sequences.\n",
    "\n",
    "- Sell volume levels 1, 2, 3, 4\n",
    "- Sell price levels 1, 2, 3, 4\n",
    "- Buy volume levels 1, 2, 3, 4\n",
    "- Buy price levels 1, 2, 3, 4\n",
    "- Last 5 midpoint changes\n",
    "\n",
    "From this we can pad the first 4 sequences with 0s to make them length 5. Then we get the sequence $X_1, X_2, ..., X_5$ where $X_t \\in \\mathbb{R}^5$. We join the 5 vectors together to get a 5 by 5 matrix A, which will be our input. Our training data will have shape $({num\\_samples}, 5, 5)$.\n",
    "\n",
    "We use an LSTM to take advantage of the sequential structure of the order book, and the time series of the last 5 midpoint changes."
   ]
  },
  {
   "cell_type": "code",
   "execution_count": 19,
   "id": "6fa04ed1",
   "metadata": {},
   "outputs": [],
   "source": [
    "def partition_features(X):\n",
    "    level1 = X.iloc[:, [0, 4, 8, 12]]  # Sell prices\n",
    "    level2 = X.iloc[:, [1, 5, 9, 13]]  # Sell vols\n",
    "    level3 = X.iloc[:, [2, 6, 10, 14]]  # Buy prices\n",
    "    level4 = X.iloc[:, [3, 7, 11, 15]]  # Buy vols\n",
    "    time_series_features = X.iloc[:, 16:]  # Last 5 changes\n",
    "\n",
    "    return (level1, level2, level3, level4, time_series_features)"
   ]
  },
  {
   "cell_type": "code",
   "execution_count": 20,
   "id": "1c8ac87e-a187-41cc-a29e-388b80d60b6e",
   "metadata": {},
   "outputs": [],
   "source": [
    "partitioned_x_train = partition_features(X_train)\n",
    "partitioned_x_val = partition_features(X_val)\n",
    "partitioned_x_test = partition_features(X_test)"
   ]
  },
  {
   "cell_type": "code",
   "execution_count": 21,
   "id": "1c26468f-0ccd-4ac2-a474-e91090441963",
   "metadata": {},
   "outputs": [],
   "source": [
    "# Reshape data for each time series group\n",
    "n_timesteps = 5  # Each row is an independent instance\n",
    "\n",
    "def get_sequences(partition):\n",
    "    n_samples = len(partition[0])\n",
    "\n",
    "    padded = [pad_sequences(partition[i].values, maxlen=5, padding=\"post\", dtype=\"float32\") for i in range(4)]\n",
    "    \n",
    "    X1 = padded[0].reshape(n_samples, n_timesteps)\n",
    "    X2 = padded[1].reshape(n_samples, n_timesteps)\n",
    "    X3 = padded[2].reshape(n_samples, n_timesteps)\n",
    "    X4 = padded[3].reshape(n_samples, n_timesteps)\n",
    "    X5 = partition[4].values.reshape(n_samples, n_timesteps)\n",
    "    X5 = X5.astype(\"float32\")\n",
    "\n",
    "    processed = np.stack((X1, X2, X3, X4, X5), axis=-1)\n",
    "\n",
    "    return processed"
   ]
  },
  {
   "cell_type": "code",
   "execution_count": 22,
   "id": "ed1eb21d-c522-4c86-b784-00ee3b7d1005",
   "metadata": {},
   "outputs": [],
   "source": [
    "model_lstm = Sequential([\n",
    "    Masking(mask_value=0., input_shape=(5, 5)),\n",
    "    Bidirectional(LSTM(50, return_sequences=True, activation='tanh')),\n",
    "    Dropout(0.5),\n",
    "    LSTM(50, return_sequences=False, activation='tanh'),\n",
    "    Dropout(0.5),\n",
    "    Dense(50, activation='relu'),\n",
    "    Dropout(0.5),\n",
    "    Dense(1, activation='sigmoid'),\n",
    "])\n",
    "\n",
    "model_lstm.compile(optimizer='adam', loss='binary_crossentropy', metrics=['accuracy'])"
   ]
  },
  {
   "cell_type": "code",
   "execution_count": 23,
   "id": "7eebf3b5-ee40-4f78-97ae-e683e3ec1459",
   "metadata": {},
   "outputs": [],
   "source": [
    "X_train_reshaped = get_sequences(partitioned_x_train)\n",
    "X_val_reshaped = get_sequences(partitioned_x_val)"
   ]
  },
  {
   "cell_type": "code",
   "execution_count": null,
   "id": "857a4a91-3e72-4f9d-9752-0983377710ae",
   "metadata": {
    "scrolled": true
   },
   "outputs": [],
   "source": [
    "history = model_lstm.fit(X_train_reshaped, Y_train.astype(\"float32\"), epochs=100, batch_size=256, validation_data=(X_val_reshaped, Y_val.astype(\"float32\")), verbose=True)"
   ]
  },
  {
   "cell_type": "code",
   "execution_count": 25,
   "id": "7a75302c-c6e5-4c19-ac6e-2f3a45f5708e",
   "metadata": {},
   "outputs": [
    {
     "data": {
      "image/png": "[encoded data removed]",
      "text/plain": [
       "<Figure size 640x480 with 1 Axes>"
      ]
     },
     "metadata": {},
     "output_type": "display_data"
    }
   ],
   "source": [
    "accuracy = history.history['accuracy']\n",
    "val_accuracy = history.history['val_accuracy']\n",
    "max_point = np.argmax(val_accuracy)\n",
    "\n",
    "plt.plot(range(len(accuracy)), accuracy, label='Training')\n",
    "plt.plot(range(len(val_accuracy)), val_accuracy, label='Validation')\n",
    "plt.scatter(max_point, val_accuracy[max_point], color='red', label=f'Highest Validation Accuracy ({max_point}, {round(val_accuracy[max_point], 3)}')\n",
    "plt.legend()\n",
    "plt.title('Training Accuracy and Validation Accuracy vs Epochs')\n",
    "plt.show()"
   ]
  },
  {
   "cell_type": "code",
   "execution_count": 26,
   "id": "b0d6fafe-b342-4f13-994d-191997680c4a",
   "metadata": {},
   "outputs": [
    {
     "data": {
      "image/png": "[encoded data removed]",
      "text/plain": [
       "<Figure size 640x480 with 1 Axes>"
      ]
     },
     "metadata": {},
     "output_type": "display_data"
    }
   ],
   "source": [
    "loss = history.history['loss']\n",
    "val_loss = history.history['val_loss']\n",
    "min_point = np.argmin(val_loss)\n",
    "\n",
    "plt.plot(range(len(loss)), loss, label='Training')\n",
    "plt.plot(range(len(val_loss)), val_loss, label='Validation')\n",
    "plt.scatter(min_point, val_loss[min_point], color='red', label=f'(Lowest Validation Loss):({min_point}, {round(val_loss[min_point], 3)})')\n",
    "plt.legend()\n",
    "plt.title('Training Loss and Validation Loss vs Epochs')\n",
    "plt.show()"
   ]
  },
  {
   "cell_type": "markdown",
   "id": "5bdcbea3-6baf-4e17-a615-c6f01777aa1e",
   "metadata": {},
   "source": [
    "### Input model 8: CNN model"
   ]
  },
  {
   "cell_type": "markdown",
   "id": "359bb1b1-9787-4c18-a40a-a9b522f46e3e",
   "metadata": {},
   "source": [
    "We use a CNN to take into account the spatial structure of the orderbook."
   ]
  },
  {
   "cell_type": "code",
   "execution_count": 27,
   "id": "0f5f3c35-c91f-4817-9af5-aad5c9bb3be9",
   "metadata": {},
   "outputs": [],
   "source": [
    "from tensorflow.keras.models import Model\n",
    "from tensorflow.keras.layers import Input, Conv1D, LeakyReLU, Concatenate, MaxPooling1D"
   ]
  },
  {
   "cell_type": "code",
   "execution_count": 28,
   "id": "4c40f348-a0e5-4cfd-ab45-50e1d23ebb31",
   "metadata": {},
   "outputs": [],
   "source": [
    "p = 0.2\n",
    "def create_conv_layers(input_layer):\n",
    "    # Convolutional layers\n",
    "    conv1 = Conv1D(filters=16, kernel_size=2)(input_layer)\n",
    "    conv1 = Dropout(p)(conv1)\n",
    "    conv1 = LeakyReLU(alpha=0.01)(conv1)\n",
    "    conv1 = Dropout(p)(conv1)\n",
    "\n",
    "    return conv1\n",
    "\n",
    "def create_inception_module(input_layer):\n",
    "    # Convolutional branches with different kernel sizes\n",
    "    branch_1 = Conv1D(filters=32, kernel_size=1, padding='same', activation='relu')(input_layer)\n",
    "    branch_2 = Conv1D(filters=32, kernel_size=3, padding='same', activation='relu')(input_layer)\n",
    "    branch_3 = Conv1D(filters=32, kernel_size=5, padding='same', activation='relu')(input_layer)\n",
    "\n",
    "    # MaxPooling branch\n",
    "    branch_4 = MaxPooling1D(pool_size=3, strides=1, padding='same')(input_layer)\n",
    "    branch_4 = Conv1D(filters=32, kernel_size=1, padding='same', activation='relu')(branch_4)\n",
    "\n",
    "    # Add dropout\n",
    "    branch_1 = Dropout(p)(branch_1)\n",
    "    branch_2 = Dropout(p)(branch_2)\n",
    "    branch_3 = Dropout(p)(branch_3)\n",
    "    branch_4 = Dropout(p)(branch_4)\n",
    "\n",
    "    output = Concatenate(axis=-1)([branch_1, branch_2, branch_3, branch_4])\n",
    "\n",
    "    return output\n",
    "\n",
    "def create_model(input_shape):\n",
    "    # Input layer\n",
    "    input_layer = Input(shape=input_shape)\n",
    "\n",
    "    # Create convolutional layers\n",
    "    conv_layers = create_conv_layers(input_layer)\n",
    "\n",
    "    # Create Inception module\n",
    "    inception_module = create_inception_module(conv_layers)\n",
    "\n",
    "    # LSTM layer\n",
    "    lstm_layer = LSTM(64)(inception_module)\n",
    "    lstm_layer = Dropout(p)(lstm_layer)\n",
    "\n",
    "    # Output layer\n",
    "    output_layer = Dense(1, activation='sigmoid')(lstm_layer)  # Binary classification\n",
    "\n",
    "    model = Model(inputs=input_layer, outputs=output_layer)\n",
    "    model.compile(optimizer='adam', loss='binary_crossentropy', metrics=['accuracy'])\n",
    "\n",
    "    return model"
   ]
  },
  {
   "cell_type": "code",
   "execution_count": 29,
   "id": "3af24166-bdf7-4246-832e-f53a9bf60458",
   "metadata": {},
   "outputs": [],
   "source": [
    "input_shape = (5, 5)\n",
    "model_inception = create_model(input_shape)"
   ]
  },
  {
   "cell_type": "code",
   "execution_count": null,
   "id": "04706f6a-4d69-4d40-a702-c23bad97e436",
   "metadata": {
    "scrolled": true
   },
   "outputs": [],
   "source": [
    "history = model_inception.fit(X_train_reshaped, Y_train.astype(\"float32\"), epochs=100, batch_size=256, validation_data=(X_val_reshaped, Y_val.astype(\"float32\")), verbose=True)"
   ]
  },
  {
   "cell_type": "code",
   "execution_count": 31,
   "id": "42b9517f-c164-4603-8a12-69c28999c95d",
   "metadata": {},
   "outputs": [
    {
     "data": {
      "image/png": "[encoded data removed]",
      "text/plain": [
       "<Figure size 640x480 with 1 Axes>"
      ]
     },
     "metadata": {},
     "output_type": "display_data"
    }
   ],
   "source": [
    "accuracy = history.history['accuracy']\n",
    "val_accuracy = history.history['val_accuracy']\n",
    "max_point = np.argmax(val_accuracy)\n",
    "\n",
    "plt.plot(range(len(accuracy)), accuracy, label='Training')\n",
    "plt.plot(range(len(val_accuracy)), val_accuracy, label='Validation')\n",
    "plt.scatter(max_point, val_accuracy[max_point], color='red', label=f'Highest Validation Accuracy ({max_point}, {round(val_accuracy[max_point], 3)}')\n",
    "plt.legend()\n",
    "plt.title('Training Accuracy and Validation Accuracy vs Epochs')\n",
    "plt.show()"
   ]
  },
  {
   "cell_type": "code",
   "execution_count": 32,
   "id": "53a0796a-186c-4a14-bfc7-bfc27eb05819",
   "metadata": {},
   "outputs": [
    {
     "data": {
      "image/png": "[encoded data removed]",
      "text/plain": [
       "<Figure size 640x480 with 1 Axes>"
      ]
     },
     "metadata": {},
     "output_type": "display_data"
    }
   ],
   "source": [
    "loss = history.history['loss']\n",
    "val_loss = history.history['val_loss']\n",
    "min_point = np.argmin(val_loss)\n",
    "\n",
    "plt.plot(range(len(loss)), loss, label='Training')\n",
    "plt.plot(range(len(val_loss)), val_loss, label='Validation')\n",
    "plt.scatter(min_point, val_loss[min_point], color='red', label=f'(Lowest Validation Loss):({min_point}, {round(val_loss[min_point], 3)})')\n",
    "plt.legend()\n",
    "plt.title('Training Loss and Validation Loss vs Epochs')\n",
    "plt.show()"
   ]
  },
  {
   "cell_type": "markdown",
   "id": "a36e8403",
   "metadata": {},
   "source": [
    "# Stacking"
   ]
  },
  {
   "cell_type": "markdown",
   "id": "d4aef155-5783-41ea-a67d-65138ead8f3b",
   "metadata": {},
   "source": [
    "We will now stack the models for ensemble learning. We use high values of dropout to encourage the ensembling, and we use a small number of parameters to avoid overfitting. We ensemble them for more robust predictions."
   ]
  },
  {
   "cell_type": "code",
   "execution_count": null,
   "id": "faaf53d4-0843-472f-bbd7-f74055a4995e",
   "metadata": {
    "scrolled": true
   },
   "outputs": [],
   "source": [
    "# Make predictions\n",
    "preds_train_lr = model_lr.predict_proba(X_train)[:,0]\n",
    "preds_train_rf = model_rf.predict_proba(X_train)[:,0]\n",
    "# preds_train_knn = model_knn.predict_proba(X_train)[:,0]\n",
    "# preds_train_nb = model_nb.predict_proba(X_train)[:,0]\n",
    "preds_train_nn = model_nn_input.predict(X_train).reshape(-1)\n",
    "preds_train_xgb = model_xgb.predict(X_train)\n",
    "preds_train_lstm = model_lstm.predict(X_train_reshaped)\n",
    "preds_train_inception = model_inception.predict(X_train_reshaped)\n",
    "\n",
    "preds_test_lr = model_lr.predict_proba(X_val)[:,0]\n",
    "preds_test_rf = model_rf.predict_proba(X_val)[:,0]\n",
    "# preds_test_knn = model_knn.predict_proba(X_val)[:,0]\n",
    "# preds_test_nb = model_nb.predict_proba(X_val)[:,0]\n",
    "preds_test_nn = model_nn_input.predict(X_val).reshape(-1)\n",
    "preds_test_xgb = model_xgb.predict(X_val)\n",
    "preds_test_lstm = model_lstm.predict(X_val_reshaped)\n",
    "preds_test_inception = model_inception.predict(X_val_reshaped)"
   ]
  },
  {
   "cell_type": "code",
   "execution_count": null,
   "id": "37cd7e15",
   "metadata": {
    "scrolled": true
   },
   "outputs": [],
   "source": [
    "# Prepare neural network input\n",
    "nn_input_train = np.column_stack((preds_train_lr, preds_train_rf, preds_train_nn, preds_train_xgb, preds_train_lstm, preds_train_inception))\n",
    "nn_input_val = np.column_stack((preds_test_lr, preds_test_rf, preds_test_nn, preds_test_xgb, preds_test_lstm, preds_test_inception))\n",
    "\n",
    "# Create neural network\n",
    "model_nn = Sequential([\n",
    "    Dense(6, activation='tanh', input_shape=(nn_input_train.shape[1],)),\n",
    "    Dropout(0.9),\n",
    "    Dense(1, activation='sigmoid')\n",
    "])\n",
    "\n",
    "model_nn.compile(optimizer='adam', loss='binary_crossentropy', metrics=['accuracy'])\n",
    "\n",
    "# Train the neural network\n",
    "history1 = model_nn.fit(nn_input_train, Y_train, validation_data=(nn_input_val, Y_val), epochs=25, batch_size=4096, verbose=True)"
   ]
  },
  {
   "cell_type": "code",
   "execution_count": 35,
   "id": "a1e7c5c0",
   "metadata": {},
   "outputs": [
    {
     "data": {
      "image/png": "[encoded data removed]",
      "text/plain": [
       "<Figure size 640x480 with 1 Axes>"
      ]
     },
     "metadata": {},
     "output_type": "display_data"
    }
   ],
   "source": [
    "accuracy = history1.history['accuracy']\n",
    "val_accuracy = history1.history['val_accuracy']\n",
    "max_point = np.argmax(val_accuracy)\n",
    "\n",
    "\n",
    "plt.plot(range(len(accuracy)), accuracy, label='Training')\n",
    "plt.plot(range(len(val_accuracy)), val_accuracy, label='Validation')\n",
    "plt.scatter(max_point, val_accuracy[max_point], color='red', label=f'Highest Validation Accuracy ({max_point}, {round(val_accuracy[max_point], 4)}')\n",
    "plt.legend()\n",
    "plt.title('Training Accuracy and Validation Accuracy vs Epochs')\n",
    "plt.show()"
   ]
  },
  {
   "cell_type": "code",
   "execution_count": 36,
   "id": "31cc1198",
   "metadata": {},
   "outputs": [
    {
     "data": {
      "image/png": "[encoded data removed]",
      "text/plain": [
       "<Figure size 640x480 with 1 Axes>"
      ]
     },
     "metadata": {},
     "output_type": "display_data"
    }
   ],
   "source": [
    "loss = history1.history['loss']\n",
    "val_loss = history1.history['val_loss']\n",
    "min_point = np.argmin(val_loss)\n",
    "\n",
    "plt.plot(range(len(loss)), loss, label='Training')\n",
    "plt.plot(range(len(val_loss)), val_loss, label='Validation')\n",
    "plt.scatter(min_point, val_loss[min_point], color='red', label=f'(Lowest Validation Loss):({min_point}, {round(val_loss[min_point], 4)})')\n",
    "plt.legend()\n",
    "plt.title('Training Loss and Validation Loss vs Epochs')\n",
    "plt.show()"
   ]
  },
  {
   "cell_type": "markdown",
   "id": "b62f7e97-f10f-4621-b296-dc5ba655414b",
   "metadata": {},
   "source": [
    "# Out of sample testing"
   ]
  },
  {
   "cell_type": "markdown",
   "id": "eb87f228-d328-4c9d-a49f-8fe6b5ec4da0",
   "metadata": {},
   "source": [
    "We achieve an accuracy of 73% on the test set using ensembling."
   ]
  },
  {
   "cell_type": "code",
   "execution_count": 37,
   "id": "390ee433-4e87-4b53-a5f2-65672998a826",
   "metadata": {},
   "outputs": [
    {
     "name": "stdout",
     "output_type": "stream",
     "text": [
      "[[13492  6493]\n",
      " [ 6778 13237]]\n",
      "              precision    recall  f1-score   support\n",
      "\n",
      "           0       0.67      0.68      0.67     19985\n",
      "           1       0.67      0.66      0.67     20015\n",
      "\n",
      "    accuracy                           0.67     40000\n",
      "   macro avg       0.67      0.67      0.67     40000\n",
      "weighted avg       0.67      0.67      0.67     40000\n",
      "\n"
     ]
    }
   ],
   "source": [
    "model_lr = Pipeline([\n",
    "    ('logistic', LogisticRegression())\n",
    "])\n",
    "\n",
    "# Train the model using the pipeline\n",
    "model_lr.fit(X_train_large, Y_train_large) \n",
    "\n",
    "# Make predictions\n",
    "predictions_lr = model_lr.predict(X_test)\n",
    "\n",
    "# Evaluate the model\n",
    "print(confusion_matrix(Y_test, predictions_lr))\n",
    "print(classification_report(Y_test, predictions_lr))"
   ]
  },
  {
   "cell_type": "code",
   "execution_count": 38,
   "id": "727449d3-6336-4cbe-8e32-a57dfb54dce8",
   "metadata": {},
   "outputs": [
    {
     "name": "stdout",
     "output_type": "stream",
     "text": [
      "[[14551  5434]\n",
      " [ 5355 14660]]\n",
      "              precision    recall  f1-score   support\n",
      "\n",
      "           0       0.73      0.73      0.73     19985\n",
      "           1       0.73      0.73      0.73     20015\n",
      "\n",
      "    accuracy                           0.73     40000\n",
      "   macro avg       0.73      0.73      0.73     40000\n",
      "weighted avg       0.73      0.73      0.73     40000\n",
      "\n"
     ]
    }
   ],
   "source": [
    "best_n = 500\n",
    "best_depth = 15\n",
    "\n",
    "# Retrain the model on the entire training set with the best hyperparameters\n",
    "model_rf = Pipeline([('rf', RandomForestClassifier(n_estimators=best_n, max_depth = best_depth))])\n",
    "model_rf.fit(X_train_large, Y_train_large)\n",
    "\n",
    "# Make predictions\n",
    "predictions_rf = model_rf.predict(X_test)\n",
    "\n",
    "# Evaluate the model\n",
    "print(confusion_matrix(Y_test, predictions_rf))\n",
    "print(classification_report(Y_test, predictions_rf))"
   ]
  },
  {
   "cell_type": "code",
   "execution_count": 39,
   "id": "c800dcbc-3829-44dd-a7f5-f63dbee4974d",
   "metadata": {},
   "outputs": [
    {
     "name": "stdout",
     "output_type": "stream",
     "text": [
      "Accuracy: 0.72955\n",
      "              precision    recall  f1-score   support\n",
      "\n",
      "           0       0.73      0.73      0.73     19985\n",
      "           1       0.73      0.73      0.73     20015\n",
      "\n",
      "    accuracy                           0.73     40000\n",
      "   macro avg       0.73      0.73      0.73     40000\n",
      "weighted avg       0.73      0.73      0.73     40000\n",
      "\n"
     ]
    }
   ],
   "source": [
    "opti_lr = 0.05623413251903491\n",
    "opti_n = 500\n",
    "opti_subsample = 1\n",
    "\n",
    "model_xgb = xgb.XGBRegressor(learning_rate = opti_lr, n_estimators = opti_n, subsample = opti_subsample, random_state = 1).fit(X_train_large, Y_train_large)\n",
    "\n",
    "# Make predictions\n",
    "predictions_xgb = model_xgb.predict(X_test)\n",
    "predictions_xgb[predictions_xgb > 0.5 ] = int(1)\n",
    "predictions_xgb[predictions_xgb <= 0.5 ] = int(0)  \n",
    "\n",
    "\n",
    "# Evaluate the model\n",
    "print(\"Accuracy:\", accuracy_score(Y_test, predictions_xgb))\n",
    "print(classification_report(Y_test, predictions_xgb))"
   ]
  },
  {
   "cell_type": "code",
   "execution_count": null,
   "id": "30cb1f01-711a-4023-abbe-1b3d8e376fb8",
   "metadata": {
    "scrolled": true
   },
   "outputs": [],
   "source": [
    "#retrain the model\n",
    "opti_epoch = 178\n",
    "opti_acti = ['relu', 'sigmoid']\n",
    "opti_dropout = 0.2\n",
    "\n",
    "# Select the optimal epoch\n",
    "model_nn_input = Sequential([\n",
    "        Dense(128, activation= opti_acti[0], input_shape=(X_train.shape[1],)),\n",
    "        Dropout(opti_dropout),\n",
    "        Dense(128, activation= opti_acti[1]),\n",
    "        Dropout(opti_dropout),\n",
    "        Dense(1, activation='sigmoid')\n",
    "    ])\n",
    "\n",
    "model_nn_input.compile(optimizer='adam', loss='binary_crossentropy', metrics=['accuracy'])\n",
    "# Train the neural network\n",
    "history = model_nn_input.fit(X_train_large, Y_train_large, validation_data=(X_test,Y_test), epochs= opti_epoch, batch_size=256, verbose=True)"
   ]
  },
  {
   "cell_type": "code",
   "execution_count": null,
   "id": "4e060f1b-fe1b-4392-98ce-db6824d493d1",
   "metadata": {
    "scrolled": true
   },
   "outputs": [],
   "source": [
    "model_lstm = Sequential([\n",
    "    Masking(mask_value=0., input_shape=(5, 5)),\n",
    "    Bidirectional(LSTM(50, return_sequences=True, activation='tanh')),\n",
    "    Dropout(0.5),\n",
    "    LSTM(50, return_sequences=False, activation='tanh'),\n",
    "    Dropout(0.5),\n",
    "    Dense(50, activation='relu'),\n",
    "    Dropout(0.5),\n",
    "    Dense(1, activation='sigmoid'),\n",
    "])\n",
    "\n",
    "model_lstm.compile(optimizer='adam', loss='binary_crossentropy', metrics=['accuracy'])\n",
    "\n",
    "partitioned_x_train_large = partition_features(X_train_large)\n",
    "partitioned_x_test = partition_features(X_test)\n",
    "\n",
    "X_train_large_reshaped = get_sequences(partitioned_x_train_large)\n",
    "X_test_reshaped = get_sequences(partitioned_x_test)\n",
    "\n",
    "history = model_lstm.fit(X_train_large_reshaped, Y_train_large.astype(\"float32\"), epochs=100, batch_size=256, validation_data=(X_test_reshaped, Y_test.astype(\"float32\")), verbose=True)"
   ]
  },
  {
   "cell_type": "code",
   "execution_count": null,
   "id": "6003bdfd-bd1e-4628-8dad-26b395f0e5f1",
   "metadata": {
    "scrolled": true
   },
   "outputs": [],
   "source": [
    "input_shape = (5, 5)  # 100 timesteps, 40 features\n",
    "model_inception = create_model(input_shape)\n",
    "\n",
    "history = model_inception.fit(X_train_large_reshaped, Y_train_large.astype(\"float32\"), epochs=100, batch_size=256, validation_data=(X_test_reshaped, Y_test.astype(\"float32\")), verbose=True)"
   ]
  },
  {
   "cell_type": "code",
   "execution_count": 43,
   "id": "eae24ead-9a02-4c01-990a-25e174378b04",
   "metadata": {},
   "outputs": [
    {
     "name": "stdout",
     "output_type": "stream",
     "text": [
      "5000/5000 [==============================] - 3s 530us/step\n",
      "5000/5000 [==============================] - 15s 3ms/step\n",
      "5000/5000 [==============================] - 10s 2ms/step\n",
      "1250/1250 [==============================] - 1s 527us/step\n",
      "1250/1250 [==============================] - 3s 2ms/step\n",
      "1250/1250 [==============================] - 2s 2ms/step\n"
     ]
    }
   ],
   "source": [
    "# Ensemble\n",
    "preds_train_lr = model_lr.predict_proba(X_train_large)[:,0]\n",
    "preds_train_rf = model_rf.predict_proba(X_train_large)[:,0]\n",
    "preds_train_nn = model_nn_input.predict(X_train_large).reshape(-1)\n",
    "preds_train_xgb = model_xgb.predict(X_train_large)\n",
    "preds_train_lstm = model_lstm.predict(X_train_large_reshaped)\n",
    "preds_train_inception = model_inception.predict(X_train_large_reshaped)\n",
    "\n",
    "preds_test_lr = model_lr.predict_proba(X_test)[:,0]\n",
    "preds_test_rf = model_rf.predict_proba(X_test)[:,0]\n",
    "preds_test_nn = model_nn_input.predict(X_test).reshape(-1)\n",
    "preds_test_xgb = model_xgb.predict(X_test)\n",
    "preds_test_lstm = model_lstm.predict(X_test_reshaped)\n",
    "preds_test_inception = model_inception.predict(X_test_reshaped)"
   ]
  },
  {
   "cell_type": "code",
   "execution_count": null,
   "id": "b37d51e8-283b-46ca-a8b9-7441536f9953",
   "metadata": {
    "scrolled": true
   },
   "outputs": [],
   "source": [
    "# Prepare neural network input\n",
    "nn_input_train = np.column_stack((preds_train_lr, preds_train_rf, preds_train_nn, preds_train_xgb, preds_train_lstm, preds_train_inception))\n",
    "nn_input_test = np.column_stack((preds_test_lr, preds_test_rf, preds_test_nn, preds_test_xgb, preds_test_lstm, preds_test_inception))\n",
    "\n",
    "# Create neural network\n",
    "model_nn = Sequential([\n",
    "    Dense(6, activation='tanh', input_shape=(nn_input_train.shape[1],)),\n",
    "    Dropout(0.9),\n",
    "    Dense(1, activation='sigmoid')\n",
    "])\n",
    "\n",
    "model_nn.compile(optimizer='adam', loss='binary_crossentropy', metrics=['accuracy'])\n",
    "\n",
    "# Train the neural network\n",
    "history1 = model_nn.fit(nn_input_train, Y_train_large, validation_data=(nn_input_test, Y_test), epochs=25, batch_size=4096, verbose=True)"
   ]
  },
  {
   "cell_type": "markdown",
   "id": "b85e9cea-5146-4e22-82e3-eb423b1c7ec6",
   "metadata": {},
   "source": [
    "# Making our submission"
   ]
  },
  {
   "cell_type": "code",
   "execution_count": 45,
   "id": "b378c01e-05b4-45e8-8d17-612ce40b6c3e",
   "metadata": {},
   "outputs": [
    {
     "data": {
      "text/html": [
       "<style>#sk-container-id-3 {color: black;}#sk-container-id-3 pre{padding: 0;}#sk-container-id-3 div.sk-toggleable {background-color: white;}#sk-container-id-3 label.sk-toggleable__label {cursor: pointer;display: block;width: 100%;margin-bottom: 0;padding: 0.3em;box-sizing: border-box;text-align: center;}#sk-container-id-3 label.sk-toggleable__label-arrow:before {content: \"▸\";float: left;margin-right: 0.25em;color: #696969;}#sk-container-id-3 label.sk-toggleable__label-arrow:hover:before {color: black;}#sk-container-id-3 div.sk-estimator:hover label.sk-toggleable__label-arrow:before {color: black;}#sk-container-id-3 div.sk-toggleable__content {max-height: 0;max-width: 0;overflow: hidden;text-align: left;background-color: #f0f8ff;}#sk-container-id-3 div.sk-toggleable__content pre {margin: 0.2em;color: black;border-radius: 0.25em;background-color: #f0f8ff;}#sk-container-id-3 input.sk-toggleable__control:checked~div.sk-toggleable__content {max-height: 200px;max-width: 100%;overflow: auto;}#sk-container-id-3 input.sk-toggleable__control:checked~label.sk-toggleable__label-arrow:before {content: \"▾\";}#sk-container-id-3 div.sk-estimator input.sk-toggleable__control:checked~label.sk-toggleable__label {background-color: #d4ebff;}#sk-container-id-3 div.sk-label input.sk-toggleable__control:checked~label.sk-toggleable__label {background-color: #d4ebff;}#sk-container-id-3 input.sk-hidden--visually {border: 0;clip: rect(1px 1px 1px 1px);clip: rect(1px, 1px, 1px, 1px);height: 1px;margin: -1px;overflow: hidden;padding: 0;position: absolute;width: 1px;}#sk-container-id-3 div.sk-estimator {font-family: monospace;background-color: #f0f8ff;border: 1px dotted black;border-radius: 0.25em;box-sizing: border-box;margin-bottom: 0.5em;}#sk-container-id-3 div.sk-estimator:hover {background-color: #d4ebff;}#sk-container-id-3 div.sk-parallel-item::after {content: \"\";width: 100%;border-bottom: 1px solid gray;flex-grow: 1;}#sk-container-id-3 div.sk-label:hover label.sk-toggleable__label {background-color: #d4ebff;}#sk-container-id-3 div.sk-serial::before {content: \"\";position: absolute;border-left: 1px solid gray;box-sizing: border-box;top: 0;bottom: 0;left: 50%;z-index: 0;}#sk-container-id-3 div.sk-serial {display: flex;flex-direction: column;align-items: center;background-color: white;padding-right: 0.2em;padding-left: 0.2em;position: relative;}#sk-container-id-3 div.sk-item {position: relative;z-index: 1;}#sk-container-id-3 div.sk-parallel {display: flex;align-items: stretch;justify-content: center;background-color: white;position: relative;}#sk-container-id-3 div.sk-item::before, #sk-container-id-3 div.sk-parallel-item::before {content: \"\";position: absolute;border-left: 1px solid gray;box-sizing: border-box;top: 0;bottom: 0;left: 50%;z-index: -1;}#sk-container-id-3 div.sk-parallel-item {display: flex;flex-direction: column;z-index: 1;position: relative;background-color: white;}#sk-container-id-3 div.sk-parallel-item:first-child::after {align-self: flex-end;width: 50%;}#sk-container-id-3 div.sk-parallel-item:last-child::after {align-self: flex-start;width: 50%;}#sk-container-id-3 div.sk-parallel-item:only-child::after {width: 0;}#sk-container-id-3 div.sk-dashed-wrapped {border: 1px dashed gray;margin: 0 0.4em 0.5em 0.4em;box-sizing: border-box;padding-bottom: 0.4em;background-color: white;}#sk-container-id-3 div.sk-label label {font-family: monospace;font-weight: bold;display: inline-block;line-height: 1.2em;}#sk-container-id-3 div.sk-label-container {text-align: center;}#sk-container-id-3 div.sk-container {/* jupyter's `normalize.less` sets `[hidden] { display: none; }` but bootstrap.min.css set `[hidden] { display: none !important; }` so we also need the `!important` here to be able to override the default hidden behavior on the sphinx rendered scikit-learn.org. See: https://github.com/scikit-learn/scikit-learn/issues/21755 */display: inline-block !important;position: relative;}#sk-container-id-3 div.sk-text-repr-fallback {display: none;}</style><div id=\"sk-container-id-3\" class=\"sk-top-container\"><div class=\"sk-text-repr-fallback\"><pre>Pipeline(steps=[(&#x27;logistic&#x27;, LogisticRegression())])</pre><b>In a Jupyter environment, please rerun this cell to show the HTML representation or trust the notebook. <br />On GitHub, the HTML representation is unable to render, please try loading this page with nbviewer.org.</b></div><div class=\"sk-container\" hidden><div class=\"sk-item sk-dashed-wrapped\"><div class=\"sk-label-container\"><div class=\"sk-label sk-toggleable\"><input class=\"sk-toggleable__control sk-hidden--visually\" id=\"sk-estimator-id-6\" type=\"checkbox\" ><label for=\"sk-estimator-id-6\" class=\"sk-toggleable__label sk-toggleable__label-arrow\">Pipeline</label><div class=\"sk-toggleable__content\"><pre>Pipeline(steps=[(&#x27;logistic&#x27;, LogisticRegression())])</pre></div></div></div><div class=\"sk-serial\"><div class=\"sk-item\"><div class=\"sk-estimator sk-toggleable\"><input class=\"sk-toggleable__control sk-hidden--visually\" id=\"sk-estimator-id-7\" type=\"checkbox\" ><label for=\"sk-estimator-id-7\" class=\"sk-toggleable__label sk-toggleable__label-arrow\">LogisticRegression</label><div class=\"sk-toggleable__content\"><pre>LogisticRegression()</pre></div></div></div></div></div></div></div>"
      ],
      "text/plain": [
       "Pipeline(steps=[('logistic', LogisticRegression())])"
      ]
     },
     "execution_count": 45,
     "metadata": {},
     "output_type": "execute_result"
    }
   ],
   "source": [
    "model_lr = Pipeline([\n",
    "    ('logistic', LogisticRegression())\n",
    "])\n",
    "\n",
    "# Train the model using the pipeline\n",
    "model_lr.fit(X, Y)"
   ]
  },
  {
   "cell_type": "code",
   "execution_count": 46,
   "id": "eb0c0906-d2f8-4a31-aa26-5bd5356755a2",
   "metadata": {},
   "outputs": [
    {
     "data": {
      "text/html": [
       "<style>#sk-container-id-4 {color: black;}#sk-container-id-4 pre{padding: 0;}#sk-container-id-4 div.sk-toggleable {background-color: white;}#sk-container-id-4 label.sk-toggleable__label {cursor: pointer;display: block;width: 100%;margin-bottom: 0;padding: 0.3em;box-sizing: border-box;text-align: center;}#sk-container-id-4 label.sk-toggleable__label-arrow:before {content: \"▸\";float: left;margin-right: 0.25em;color: #696969;}#sk-container-id-4 label.sk-toggleable__label-arrow:hover:before {color: black;}#sk-container-id-4 div.sk-estimator:hover label.sk-toggleable__label-arrow:before {color: black;}#sk-container-id-4 div.sk-toggleable__content {max-height: 0;max-width: 0;overflow: hidden;text-align: left;background-color: #f0f8ff;}#sk-container-id-4 div.sk-toggleable__content pre {margin: 0.2em;color: black;border-radius: 0.25em;background-color: #f0f8ff;}#sk-container-id-4 input.sk-toggleable__control:checked~div.sk-toggleable__content {max-height: 200px;max-width: 100%;overflow: auto;}#sk-container-id-4 input.sk-toggleable__control:checked~label.sk-toggleable__label-arrow:before {content: \"▾\";}#sk-container-id-4 div.sk-estimator input.sk-toggleable__control:checked~label.sk-toggleable__label {background-color: #d4ebff;}#sk-container-id-4 div.sk-label input.sk-toggleable__control:checked~label.sk-toggleable__label {background-color: #d4ebff;}#sk-container-id-4 input.sk-hidden--visually {border: 0;clip: rect(1px 1px 1px 1px);clip: rect(1px, 1px, 1px, 1px);height: 1px;margin: -1px;overflow: hidden;padding: 0;position: absolute;width: 1px;}#sk-container-id-4 div.sk-estimator {font-family: monospace;background-color: #f0f8ff;border: 1px dotted black;border-radius: 0.25em;box-sizing: border-box;margin-bottom: 0.5em;}#sk-container-id-4 div.sk-estimator:hover {background-color: #d4ebff;}#sk-container-id-4 div.sk-parallel-item::after {content: \"\";width: 100%;border-bottom: 1px solid gray;flex-grow: 1;}#sk-container-id-4 div.sk-label:hover label.sk-toggleable__label {background-color: #d4ebff;}#sk-container-id-4 div.sk-serial::before {content: \"\";position: absolute;border-left: 1px solid gray;box-sizing: border-box;top: 0;bottom: 0;left: 50%;z-index: 0;}#sk-container-id-4 div.sk-serial {display: flex;flex-direction: column;align-items: center;background-color: white;padding-right: 0.2em;padding-left: 0.2em;position: relative;}#sk-container-id-4 div.sk-item {position: relative;z-index: 1;}#sk-container-id-4 div.sk-parallel {display: flex;align-items: stretch;justify-content: center;background-color: white;position: relative;}#sk-container-id-4 div.sk-item::before, #sk-container-id-4 div.sk-parallel-item::before {content: \"\";position: absolute;border-left: 1px solid gray;box-sizing: border-box;top: 0;bottom: 0;left: 50%;z-index: -1;}#sk-container-id-4 div.sk-parallel-item {display: flex;flex-direction: column;z-index: 1;position: relative;background-color: white;}#sk-container-id-4 div.sk-parallel-item:first-child::after {align-self: flex-end;width: 50%;}#sk-container-id-4 div.sk-parallel-item:last-child::after {align-self: flex-start;width: 50%;}#sk-container-id-4 div.sk-parallel-item:only-child::after {width: 0;}#sk-container-id-4 div.sk-dashed-wrapped {border: 1px dashed gray;margin: 0 0.4em 0.5em 0.4em;box-sizing: border-box;padding-bottom: 0.4em;background-color: white;}#sk-container-id-4 div.sk-label label {font-family: monospace;font-weight: bold;display: inline-block;line-height: 1.2em;}#sk-container-id-4 div.sk-label-container {text-align: center;}#sk-container-id-4 div.sk-container {/* jupyter's `normalize.less` sets `[hidden] { display: none; }` but bootstrap.min.css set `[hidden] { display: none !important; }` so we also need the `!important` here to be able to override the default hidden behavior on the sphinx rendered scikit-learn.org. See: https://github.com/scikit-learn/scikit-learn/issues/21755 */display: inline-block !important;position: relative;}#sk-container-id-4 div.sk-text-repr-fallback {display: none;}</style><div id=\"sk-container-id-4\" class=\"sk-top-container\"><div class=\"sk-text-repr-fallback\"><pre>Pipeline(steps=[(&#x27;rf&#x27;, RandomForestClassifier(max_depth=15, n_estimators=500))])</pre><b>In a Jupyter environment, please rerun this cell to show the HTML representation or trust the notebook. <br />On GitHub, the HTML representation is unable to render, please try loading this page with nbviewer.org.</b></div><div class=\"sk-container\" hidden><div class=\"sk-item sk-dashed-wrapped\"><div class=\"sk-label-container\"><div class=\"sk-label sk-toggleable\"><input class=\"sk-toggleable__control sk-hidden--visually\" id=\"sk-estimator-id-8\" type=\"checkbox\" ><label for=\"sk-estimator-id-8\" class=\"sk-toggleable__label sk-toggleable__label-arrow\">Pipeline</label><div class=\"sk-toggleable__content\"><pre>Pipeline(steps=[(&#x27;rf&#x27;, RandomForestClassifier(max_depth=15, n_estimators=500))])</pre></div></div></div><div class=\"sk-serial\"><div class=\"sk-item\"><div class=\"sk-estimator sk-toggleable\"><input class=\"sk-toggleable__control sk-hidden--visually\" id=\"sk-estimator-id-9\" type=\"checkbox\" ><label for=\"sk-estimator-id-9\" class=\"sk-toggleable__label sk-toggleable__label-arrow\">RandomForestClassifier</label><div class=\"sk-toggleable__content\"><pre>RandomForestClassifier(max_depth=15, n_estimators=500)</pre></div></div></div></div></div></div></div>"
      ],
      "text/plain": [
       "Pipeline(steps=[('rf', RandomForestClassifier(max_depth=15, n_estimators=500))])"
      ]
     },
     "execution_count": 46,
     "metadata": {},
     "output_type": "execute_result"
    }
   ],
   "source": [
    "best_n = 500\n",
    "best_depth = 15\n",
    "\n",
    "# Retrain the model on the entire training set with the best hyperparameters\n",
    "model_rf = Pipeline([('rf', RandomForestClassifier(n_estimators=best_n, max_depth = best_depth))])\n",
    "model_rf.fit(X, Y)"
   ]
  },
  {
   "cell_type": "code",
   "execution_count": 47,
   "id": "67133544-ccda-4448-af77-4d583a73e072",
   "metadata": {},
   "outputs": [],
   "source": [
    "opti_lr = 0.05623413251903491\n",
    "opti_n = 500\n",
    "opti_subsample = 1\n",
    "\n",
    "model_xgb = xgb.XGBRegressor(learning_rate = opti_lr, n_estimators = opti_n, subsample = opti_subsample, random_state = 1).fit(X, Y)"
   ]
  },
  {
   "cell_type": "code",
   "execution_count": null,
   "id": "7f21a010-23bc-40d2-8f4d-c5a55558aa22",
   "metadata": {
    "scrolled": true
   },
   "outputs": [],
   "source": [
    "#retrain the model\n",
    "opti_epoch = 178\n",
    "opti_acti = ['relu', 'sigmoid']\n",
    "opti_dropout = 0.2\n",
    "\n",
    "# Select the optimal epoch\n",
    "model_nn_input = Sequential([\n",
    "        Dense(128, activation= opti_acti[0], input_shape=(X_train.shape[1],)),\n",
    "        Dropout(opti_dropout),\n",
    "        Dense(128, activation= opti_acti[1]),\n",
    "        Dropout(opti_dropout),\n",
    "        Dense(1, activation='sigmoid')\n",
    "    ])\n",
    "\n",
    "model_nn_input.compile(optimizer='adam', loss='binary_crossentropy', metrics=['accuracy'])\n",
    "\n",
    "# Train the neural network\n",
    "history = model_nn_input.fit(X, Y, epochs=opti_epoch, batch_size=256, verbose=True)"
   ]
  },
  {
   "cell_type": "code",
   "execution_count": 49,
   "id": "9ac542b7-681d-4d46-9d13-55c5e84c4d5d",
   "metadata": {},
   "outputs": [],
   "source": [
    "partitioned_x_A = partition_features(X)\n",
    "partitioned_x_B = partition_features(X_B)\n",
    "\n",
    "X_reshaped = get_sequences(partitioned_x_A)\n",
    "X_B_reshaped = get_sequences(partitioned_x_B)"
   ]
  },
  {
   "cell_type": "code",
   "execution_count": null,
   "id": "da452710-18e3-4cb4-8c0c-9c844008464b",
   "metadata": {
    "scrolled": true
   },
   "outputs": [],
   "source": [
    "model_lstm = Sequential([\n",
    "    Masking(mask_value=0., input_shape=(5, 5)),\n",
    "    Bidirectional(LSTM(50, return_sequences=True, activation='tanh')),\n",
    "    Dropout(0.5),\n",
    "    LSTM(50, return_sequences=False, activation='tanh'),\n",
    "    Dropout(0.5),\n",
    "    Dense(50, activation='relu'),\n",
    "    Dropout(0.5),\n",
    "    Dense(1, activation='sigmoid'),\n",
    "])\n",
    "\n",
    "model_lstm.compile(optimizer='adam', loss='binary_crossentropy', metrics=['accuracy'])\n",
    "history = model_lstm.fit(X_reshaped, Y.astype(\"float32\"), epochs=100, batch_size=256, verbose=True)"
   ]
  },
  {
   "cell_type": "code",
   "execution_count": null,
   "id": "170e3e0d-a626-4ffc-8acb-9740af3144f1",
   "metadata": {
    "scrolled": true
   },
   "outputs": [],
   "source": [
    "input_shape = (5, 5)  # 100 timesteps, 40 features\n",
    "model_inception = create_model(input_shape)\n",
    "\n",
    "history = model_inception.fit(X_reshaped, Y.astype(\"float32\"), epochs=100, batch_size=256, verbose=True)"
   ]
  },
  {
   "cell_type": "code",
   "execution_count": 52,
   "id": "400cb3c5-8b04-46cd-b5c4-21a383725598",
   "metadata": {},
   "outputs": [
    {
     "name": "stdout",
     "output_type": "stream",
     "text": [
      "6250/6250 [==============================] - 4s 557us/step\n",
      "6250/6250 [==============================] - 23s 3ms/step\n",
      "6250/6250 [==============================] - 16s 3ms/step\n",
      "625/625 [==============================] - 0s 560us/step\n",
      "625/625 [==============================] - 2s 3ms/step\n",
      "625/625 [==============================] - 2s 3ms/step\n"
     ]
    }
   ],
   "source": [
    "# Ensemble\n",
    "preds_train_lr = model_lr.predict_proba(X)[:,0]\n",
    "preds_train_rf = model_rf.predict_proba(X)[:,0]\n",
    "preds_train_nn = model_nn_input.predict(X).reshape(-1)\n",
    "preds_train_xgb = model_xgb.predict(X)\n",
    "preds_train_lstm = model_lstm.predict(X_reshaped)\n",
    "preds_train_inception = model_inception.predict(X_reshaped)\n",
    "\n",
    "preds_test_lr = model_lr.predict_proba(X_B)[:,0]\n",
    "preds_test_rf = model_rf.predict_proba(X_B)[:,0]\n",
    "preds_test_nn = model_nn_input.predict(X_B).reshape(-1)\n",
    "preds_test_xgb = model_xgb.predict(X_B)\n",
    "preds_test_lstm = model_lstm.predict(X_B_reshaped)\n",
    "preds_test_inception = model_inception.predict(X_B_reshaped)"
   ]
  },
  {
   "cell_type": "code",
   "execution_count": null,
   "id": "58567fba-358e-4746-979a-c2f17880f633",
   "metadata": {
    "scrolled": true
   },
   "outputs": [],
   "source": [
    "# Prepare neural network input\n",
    "nn_input_train = np.column_stack((preds_train_lr, preds_train_rf, preds_train_nn, preds_train_xgb, preds_train_lstm, preds_train_inception))\n",
    "nn_input_test = np.column_stack((preds_test_lr, preds_test_rf, preds_test_nn, preds_test_xgb, preds_test_lstm, preds_test_inception))\n",
    "\n",
    "# Create neural network\n",
    "model_nn = Sequential([\n",
    "    Dense(6, activation='tanh', input_shape=(nn_input_train.shape[1],)),\n",
    "    Dropout(0.9),\n",
    "    Dense(1, activation='sigmoid')\n",
    "])\n",
    "\n",
    "model_nn.compile(optimizer='adam', loss='binary_crossentropy', metrics=['accuracy'])\n",
    "\n",
    "# Train the neural network\n",
    "history1 = model_nn.fit(nn_input_train, Y, epochs=25, batch_size=4096, verbose=True)"
   ]
  },
  {
   "cell_type": "code",
   "execution_count": 54,
   "id": "f2e51077-cccd-4d0f-9562-b5864d5d0411",
   "metadata": {},
   "outputs": [
    {
     "name": "stdout",
     "output_type": "stream",
     "text": [
      "625/625 [==============================] - 0s 493us/step\n"
     ]
    }
   ],
   "source": [
    "prediction = model_nn.predict(nn_input_test)"
   ]
  },
  {
   "cell_type": "code",
   "execution_count": 55,
   "id": "2581234e-4ff5-4b26-b219-3645488b70fe",
   "metadata": {},
   "outputs": [],
   "source": [
    "classification = np.round(prediction).astype(int)"
   ]
  }
 ],
 "metadata": {
  "kernelspec": {
   "display_name": "Python 3 (ipykernel)",
   "language": "python",
   "name": "python3"
  },
  "language_info": {
   "codemirror_mode": {
    "name": "ipython",
    "version": 3
   },
   "file_extension": ".py",
   "mimetype": "text/x-python",
   "name": "python",
   "nbconvert_exporter": "python",
   "pygments_lexer": "ipython3",
   "version": "3.10.9"
  },
  "varInspector": {
   "cols": {
    "lenName": 16,
    "lenType": 16,
    "lenVar": 40
   },
   "kernels_config": {
    "python": {
     "delete_cmd_postfix": "",
     "delete_cmd_prefix": "del ",
     "library": "var_list.py",
     "varRefreshCmd": "print(var_dic_list())"
    },
    "r": {
     "delete_cmd_postfix": ") ",
     "delete_cmd_prefix": "rm(",
     "library": "var_list.r",
     "varRefreshCmd": "cat(var_dic_list()) "
    }
   },
   "types_to_exclude": [
    "module",
    "function",
    "builtin_function_or_method",
    "instance",
    "_Feature"
   ],
   "window_display": false
  }
 },
 "nbformat": 4,
 "nbformat_minor": 5
}
